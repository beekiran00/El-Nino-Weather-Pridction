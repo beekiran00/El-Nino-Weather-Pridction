{
 "cells": [
  {
   "cell_type": "code",
   "execution_count": 1,
   "metadata": {
    "_cell_guid": "b1076dfc-b9ad-4769-8c92-a6c4dae69d19",
    "_uuid": "8f2839f25d086af736a60e9eeb907d3b93b6e0e5",
    "execution": {
     "iopub.execute_input": "2022-03-31T15:48:06.765125Z",
     "iopub.status.busy": "2022-03-31T15:48:06.764594Z",
     "iopub.status.idle": "2022-03-31T15:48:06.798855Z",
     "shell.execute_reply": "2022-03-31T15:48:06.798222Z",
     "shell.execute_reply.started": "2022-03-31T15:48:06.765014Z"
    }
   },
   "outputs": [],
   "source": [
    "# This Python 3 environment comes with many helpful analytics libraries installed\n",
    "# It is defined by the kaggle/python Docker image: https://github.com/kaggle/docker-python\n",
    "# For example, here's several helpful packages to load\n",
    "\n",
    "import numpy as np # linear algebra\n",
    "import pandas as pd # data processing, CSV file I/O (e.g. pd.read_csv)\n",
    "\n",
    "# Input data files are available in the read-only \"../input/\" directory\n",
    "# For example, running this (by clicking run or pressing Shift+Enter) will list all files under the input directory\n",
    "\n",
    "import os\n",
    "for dirname, _, filenames in os.walk('/kaggle/input'):\n",
    "    for filename in filenames:\n",
    "        print(os.path.join(dirname, filename))\n",
    "\n",
    "# You can write up to 20GB to the current directory (/kaggle/working/) that gets preserved as output when you create a version using \"Save & Run All\" \n",
    "# You can also write temporary files to /kaggle/temp/, but they won't be saved outside of the current session"
   ]
  },
  {
   "cell_type": "markdown",
   "metadata": {},
   "source": [
    "# Research Questions to be addressed:\n",
    "\n",
    "* - How can the data be used to predict weather conditions throughout the world?\n",
    "* - How do the variables relate to each other?\n",
    "* - Which variables have a greater effect on the climate variations?\n",
    "* - Does the amount of movement of the buoy effect the reliability of the data?\n",
    "* - When performing an analysis of the data, one should pay attention the possible affect of autocorrelation. Using a multiple regression approach to model the data would require a look at autoregression since the weather statistics of the previous days will affect today's weather."
   ]
  },
  {
   "cell_type": "markdown",
   "metadata": {},
   "source": [
    "# Importing Libraries and Reading the dataset\n"
   ]
  },
  {
   "cell_type": "code",
   "execution_count": 2,
   "metadata": {
    "execution": {
     "iopub.execute_input": "2022-03-31T15:48:06.800447Z",
     "iopub.status.busy": "2022-03-31T15:48:06.799966Z",
     "iopub.status.idle": "2022-03-31T15:48:59.011522Z",
     "shell.execute_reply": "2022-03-31T15:48:59.010049Z",
     "shell.execute_reply.started": "2022-03-31T15:48:06.800418Z"
    }
   },
   "outputs": [
    {
     "name": "stdout",
     "output_type": "stream",
     "text": [
      "Collecting pyspark\n",
      "  Downloading pyspark-3.2.1.tar.gz (281.4 MB)\n",
      "\u001b[K     |████████████████████████████████| 281.4 MB 128 kB/s eta 0:00:013\n",
      "\u001b[?25hCollecting py4j==0.10.9.3\n",
      "  Downloading py4j-0.10.9.3-py2.py3-none-any.whl (198 kB)\n",
      "\u001b[K     |████████████████████████████████| 198 kB 6.0 MB/s eta 0:00:01\n",
      "\u001b[?25hBuilding wheels for collected packages: pyspark\n",
      "  Building wheel for pyspark (setup.py) ... \u001b[?25ldone\n",
      "\u001b[?25h  Created wheel for pyspark: filename=pyspark-3.2.1-py2.py3-none-any.whl size=281853646 sha256=58cf8da598fd4f4992195ed34b689c03ea15d6868cc65b21abaa13af1b79796b\n",
      "  Stored in directory: /Users/bhanukiran/Library/Caches/pip/wheels/58/94/83/915c9059e4b038e2d43a6058f307fe1c3e8536e5745f3b23b7\n",
      "Successfully built pyspark\n",
      "Installing collected packages: py4j, pyspark\n",
      "Successfully installed py4j-0.10.9.3 pyspark-3.2.1\n"
     ]
    }
   ],
   "source": [
    "!pip install pyspark"
   ]
  },
  {
   "cell_type": "code",
   "execution_count": 3,
   "metadata": {
    "execution": {
     "iopub.execute_input": "2022-03-31T15:48:59.015673Z",
     "iopub.status.busy": "2022-03-31T15:48:59.015153Z",
     "iopub.status.idle": "2022-03-31T15:49:01.265189Z",
     "shell.execute_reply": "2022-03-31T15:49:01.263782Z",
     "shell.execute_reply.started": "2022-03-31T15:48:59.015613Z"
    }
   },
   "outputs": [],
   "source": [
    "# libraries\n",
    "import dask\n",
    "import dask.dataframe as dd\n",
    "import seaborn as sns\n",
    "import matplotlib.pyplot as plt"
   ]
  },
  {
   "cell_type": "code",
   "execution_count": 4,
   "metadata": {
    "execution": {
     "iopub.execute_input": "2022-03-31T15:49:01.267838Z",
     "iopub.status.busy": "2022-03-31T15:49:01.267359Z",
     "iopub.status.idle": "2022-03-31T15:49:01.676545Z",
     "shell.execute_reply": "2022-03-31T15:49:01.675561Z",
     "shell.execute_reply.started": "2022-03-31T15:49:01.267782Z"
    }
   },
   "outputs": [],
   "source": [
    "#datasets\n",
    "df = pd.read_csv('elnino.csv')"
   ]
  },
  {
   "cell_type": "code",
   "execution_count": 5,
   "metadata": {
    "execution": {
     "iopub.execute_input": "2022-03-31T15:49:01.678768Z",
     "iopub.status.busy": "2022-03-31T15:49:01.678466Z",
     "iopub.status.idle": "2022-03-31T15:49:01.712998Z",
     "shell.execute_reply": "2022-03-31T15:49:01.712284Z",
     "shell.execute_reply.started": "2022-03-31T15:49:01.678737Z"
    }
   },
   "outputs": [
    {
     "data": {
      "text/html": [
       "<div>\n",
       "<style scoped>\n",
       "    .dataframe tbody tr th:only-of-type {\n",
       "        vertical-align: middle;\n",
       "    }\n",
       "\n",
       "    .dataframe tbody tr th {\n",
       "        vertical-align: top;\n",
       "    }\n",
       "\n",
       "    .dataframe thead th {\n",
       "        text-align: right;\n",
       "    }\n",
       "</style>\n",
       "<table border=\"1\" class=\"dataframe\">\n",
       "  <thead>\n",
       "    <tr style=\"text-align: right;\">\n",
       "      <th></th>\n",
       "      <th>Observation</th>\n",
       "      <th>Year</th>\n",
       "      <th>Month</th>\n",
       "      <th>Day</th>\n",
       "      <th>Date</th>\n",
       "      <th>Latitude</th>\n",
       "      <th>Longitude</th>\n",
       "      <th>Zonal Winds</th>\n",
       "      <th>Meridional Winds</th>\n",
       "      <th>Humidity</th>\n",
       "      <th>Air Temp</th>\n",
       "      <th>Sea Surface Temp</th>\n",
       "    </tr>\n",
       "  </thead>\n",
       "  <tbody>\n",
       "    <tr>\n",
       "      <th>0</th>\n",
       "      <td>1</td>\n",
       "      <td>80</td>\n",
       "      <td>3</td>\n",
       "      <td>7</td>\n",
       "      <td>800307</td>\n",
       "      <td>-0.02</td>\n",
       "      <td>-109.46</td>\n",
       "      <td>-6.8</td>\n",
       "      <td>0.7</td>\n",
       "      <td>.</td>\n",
       "      <td>26.14</td>\n",
       "      <td>26.24</td>\n",
       "    </tr>\n",
       "    <tr>\n",
       "      <th>1</th>\n",
       "      <td>2</td>\n",
       "      <td>80</td>\n",
       "      <td>3</td>\n",
       "      <td>8</td>\n",
       "      <td>800308</td>\n",
       "      <td>-0.02</td>\n",
       "      <td>-109.46</td>\n",
       "      <td>-4.9</td>\n",
       "      <td>1.1</td>\n",
       "      <td>.</td>\n",
       "      <td>25.66</td>\n",
       "      <td>25.97</td>\n",
       "    </tr>\n",
       "    <tr>\n",
       "      <th>2</th>\n",
       "      <td>3</td>\n",
       "      <td>80</td>\n",
       "      <td>3</td>\n",
       "      <td>9</td>\n",
       "      <td>800309</td>\n",
       "      <td>-0.02</td>\n",
       "      <td>-109.46</td>\n",
       "      <td>-4.5</td>\n",
       "      <td>2.2</td>\n",
       "      <td>.</td>\n",
       "      <td>25.69</td>\n",
       "      <td>25.28</td>\n",
       "    </tr>\n",
       "    <tr>\n",
       "      <th>3</th>\n",
       "      <td>4</td>\n",
       "      <td>80</td>\n",
       "      <td>3</td>\n",
       "      <td>10</td>\n",
       "      <td>800310</td>\n",
       "      <td>-0.02</td>\n",
       "      <td>-109.46</td>\n",
       "      <td>-3.8</td>\n",
       "      <td>1.9</td>\n",
       "      <td>.</td>\n",
       "      <td>25.57</td>\n",
       "      <td>24.31</td>\n",
       "    </tr>\n",
       "    <tr>\n",
       "      <th>4</th>\n",
       "      <td>5</td>\n",
       "      <td>80</td>\n",
       "      <td>3</td>\n",
       "      <td>11</td>\n",
       "      <td>800311</td>\n",
       "      <td>-0.02</td>\n",
       "      <td>-109.46</td>\n",
       "      <td>-4.2</td>\n",
       "      <td>1.5</td>\n",
       "      <td>.</td>\n",
       "      <td>25.3</td>\n",
       "      <td>23.19</td>\n",
       "    </tr>\n",
       "  </tbody>\n",
       "</table>\n",
       "</div>"
      ],
      "text/plain": [
       "   Observation   Year   Month   Day    Date   Latitude   Longitude  \\\n",
       "0            1     80       3     7  800307      -0.02     -109.46   \n",
       "1            2     80       3     8  800308      -0.02     -109.46   \n",
       "2            3     80       3     9  800309      -0.02     -109.46   \n",
       "3            4     80       3    10  800310      -0.02     -109.46   \n",
       "4            5     80       3    11  800311      -0.02     -109.46   \n",
       "\n",
       "   Zonal Winds  Meridional Winds  Humidity  Air Temp  Sea Surface Temp  \n",
       "0         -6.8               0.7         .     26.14             26.24  \n",
       "1         -4.9               1.1         .     25.66             25.97  \n",
       "2         -4.5               2.2         .     25.69             25.28  \n",
       "3         -3.8               1.9         .     25.57             24.31  \n",
       "4         -4.2               1.5         .      25.3             23.19  "
      ]
     },
     "execution_count": 5,
     "metadata": {},
     "output_type": "execute_result"
    }
   ],
   "source": [
    "df.head()"
   ]
  },
  {
   "cell_type": "code",
   "execution_count": 6,
   "metadata": {
    "execution": {
     "iopub.execute_input": "2022-03-31T15:49:01.714533Z",
     "iopub.status.busy": "2022-03-31T15:49:01.714222Z",
     "iopub.status.idle": "2022-03-31T15:49:01.721113Z",
     "shell.execute_reply": "2022-03-31T15:49:01.720229Z",
     "shell.execute_reply.started": "2022-03-31T15:49:01.714492Z"
    }
   },
   "outputs": [
    {
     "data": {
      "text/plain": [
       "178080"
      ]
     },
     "execution_count": 6,
     "metadata": {},
     "output_type": "execute_result"
    }
   ],
   "source": [
    "df.shape[0]"
   ]
  },
  {
   "cell_type": "markdown",
   "metadata": {},
   "source": [
    "# Exploratory Data Analysis"
   ]
  },
  {
   "cell_type": "code",
   "execution_count": 7,
   "metadata": {
    "execution": {
     "iopub.execute_input": "2022-03-31T15:49:01.723321Z",
     "iopub.status.busy": "2022-03-31T15:49:01.722954Z",
     "iopub.status.idle": "2022-03-31T15:49:01.801593Z",
     "shell.execute_reply": "2022-03-31T15:49:01.800687Z",
     "shell.execute_reply.started": "2022-03-31T15:49:01.723278Z"
    }
   },
   "outputs": [
    {
     "data": {
      "text/html": [
       "<div>\n",
       "<style scoped>\n",
       "    .dataframe tbody tr th:only-of-type {\n",
       "        vertical-align: middle;\n",
       "    }\n",
       "\n",
       "    .dataframe tbody tr th {\n",
       "        vertical-align: top;\n",
       "    }\n",
       "\n",
       "    .dataframe thead th {\n",
       "        text-align: right;\n",
       "    }\n",
       "</style>\n",
       "<table border=\"1\" class=\"dataframe\">\n",
       "  <thead>\n",
       "    <tr style=\"text-align: right;\">\n",
       "      <th></th>\n",
       "      <th>Observation</th>\n",
       "      <th>Year</th>\n",
       "      <th>Month</th>\n",
       "      <th>Day</th>\n",
       "      <th>Date</th>\n",
       "      <th>Latitude</th>\n",
       "      <th>Longitude</th>\n",
       "    </tr>\n",
       "  </thead>\n",
       "  <tbody>\n",
       "    <tr>\n",
       "      <th>count</th>\n",
       "      <td>178080.000000</td>\n",
       "      <td>178080.000000</td>\n",
       "      <td>178080.000000</td>\n",
       "      <td>178080.000000</td>\n",
       "      <td>178080.000000</td>\n",
       "      <td>178080.000000</td>\n",
       "      <td>178080.000000</td>\n",
       "    </tr>\n",
       "    <tr>\n",
       "      <th>mean</th>\n",
       "      <td>89040.500000</td>\n",
       "      <td>93.302325</td>\n",
       "      <td>6.504869</td>\n",
       "      <td>15.720536</td>\n",
       "      <td>933689.455374</td>\n",
       "      <td>0.473626</td>\n",
       "      <td>-54.025233</td>\n",
       "    </tr>\n",
       "    <tr>\n",
       "      <th>std</th>\n",
       "      <td>51407.412306</td>\n",
       "      <td>3.393818</td>\n",
       "      <td>3.459657</td>\n",
       "      <td>8.800487</td>\n",
       "      <td>33900.474320</td>\n",
       "      <td>4.583041</td>\n",
       "      <td>135.363994</td>\n",
       "    </tr>\n",
       "    <tr>\n",
       "      <th>min</th>\n",
       "      <td>1.000000</td>\n",
       "      <td>80.000000</td>\n",
       "      <td>1.000000</td>\n",
       "      <td>1.000000</td>\n",
       "      <td>800307.000000</td>\n",
       "      <td>-8.810000</td>\n",
       "      <td>-180.000000</td>\n",
       "    </tr>\n",
       "    <tr>\n",
       "      <th>25%</th>\n",
       "      <td>44520.750000</td>\n",
       "      <td>92.000000</td>\n",
       "      <td>4.000000</td>\n",
       "      <td>8.000000</td>\n",
       "      <td>920116.000000</td>\n",
       "      <td>-2.010000</td>\n",
       "      <td>-154.950000</td>\n",
       "    </tr>\n",
       "    <tr>\n",
       "      <th>50%</th>\n",
       "      <td>89040.500000</td>\n",
       "      <td>94.000000</td>\n",
       "      <td>6.000000</td>\n",
       "      <td>16.000000</td>\n",
       "      <td>940601.000000</td>\n",
       "      <td>0.010000</td>\n",
       "      <td>-111.260000</td>\n",
       "    </tr>\n",
       "    <tr>\n",
       "      <th>75%</th>\n",
       "      <td>133560.250000</td>\n",
       "      <td>96.000000</td>\n",
       "      <td>10.000000</td>\n",
       "      <td>23.000000</td>\n",
       "      <td>960617.000000</td>\n",
       "      <td>4.980000</td>\n",
       "      <td>147.010000</td>\n",
       "    </tr>\n",
       "    <tr>\n",
       "      <th>max</th>\n",
       "      <td>178080.000000</td>\n",
       "      <td>98.000000</td>\n",
       "      <td>12.000000</td>\n",
       "      <td>31.000000</td>\n",
       "      <td>980623.000000</td>\n",
       "      <td>9.050000</td>\n",
       "      <td>171.080000</td>\n",
       "    </tr>\n",
       "  </tbody>\n",
       "</table>\n",
       "</div>"
      ],
      "text/plain": [
       "         Observation           Year          Month            Day  \\\n",
       "count  178080.000000  178080.000000  178080.000000  178080.000000   \n",
       "mean    89040.500000      93.302325       6.504869      15.720536   \n",
       "std     51407.412306       3.393818       3.459657       8.800487   \n",
       "min         1.000000      80.000000       1.000000       1.000000   \n",
       "25%     44520.750000      92.000000       4.000000       8.000000   \n",
       "50%     89040.500000      94.000000       6.000000      16.000000   \n",
       "75%    133560.250000      96.000000      10.000000      23.000000   \n",
       "max    178080.000000      98.000000      12.000000      31.000000   \n",
       "\n",
       "                Date       Latitude      Longitude  \n",
       "count  178080.000000  178080.000000  178080.000000  \n",
       "mean   933689.455374       0.473626     -54.025233  \n",
       "std     33900.474320       4.583041     135.363994  \n",
       "min    800307.000000      -8.810000    -180.000000  \n",
       "25%    920116.000000      -2.010000    -154.950000  \n",
       "50%    940601.000000       0.010000    -111.260000  \n",
       "75%    960617.000000       4.980000     147.010000  \n",
       "max    980623.000000       9.050000     171.080000  "
      ]
     },
     "execution_count": 7,
     "metadata": {},
     "output_type": "execute_result"
    }
   ],
   "source": [
    "df.describe()"
   ]
  },
  {
   "cell_type": "markdown",
   "metadata": {},
   "source": [
    "The summary of the observation column is redundant. Soon we may drop this column when performing ML.  \n",
    "* The count of all the columns are the same - 178080.  \n",
    "* Year min and max seem alright because the data is crom 1980-1998. \n",
    "* Month min and max seem alright, same goes for Day.  \n",
    "* The date column has to be look at, cannot understand what the date format is yet.  \n",
    "* Even though the other columns are conists of numbers, from running the head function *df.head()* we can see there are missing values represented as \" . \" The data type might not be numeric of these columns.\n",
    "\n"
   ]
  },
  {
   "cell_type": "code",
   "execution_count": 8,
   "metadata": {
    "execution": {
     "iopub.execute_input": "2022-03-31T15:49:01.803628Z",
     "iopub.status.busy": "2022-03-31T15:49:01.803297Z",
     "iopub.status.idle": "2022-03-31T15:49:01.809378Z",
     "shell.execute_reply": "2022-03-31T15:49:01.808335Z",
     "shell.execute_reply.started": "2022-03-31T15:49:01.803585Z"
    }
   },
   "outputs": [],
   "source": [
    "# make all column names lower and remove any whitespaces\n",
    "df.columns = df.columns.str.lower()\n",
    "df.columns = df.columns.str.strip()"
   ]
  },
  {
   "cell_type": "code",
   "execution_count": 9,
   "metadata": {
    "execution": {
     "iopub.execute_input": "2022-03-31T15:49:01.811714Z",
     "iopub.status.busy": "2022-03-31T15:49:01.811363Z",
     "iopub.status.idle": "2022-03-31T15:49:01.824779Z",
     "shell.execute_reply": "2022-03-31T15:49:01.824052Z",
     "shell.execute_reply.started": "2022-03-31T15:49:01.811672Z"
    }
   },
   "outputs": [
    {
     "data": {
      "text/plain": [
       "observation           int64\n",
       "year                  int64\n",
       "month                 int64\n",
       "day                   int64\n",
       "date                  int64\n",
       "latitude            float64\n",
       "longitude           float64\n",
       "zonal winds          object\n",
       "meridional winds     object\n",
       "humidity             object\n",
       "air temp             object\n",
       "sea surface temp     object\n",
       "dtype: object"
      ]
     },
     "execution_count": 9,
     "metadata": {},
     "output_type": "execute_result"
    }
   ],
   "source": [
    "#running the dtypes function to check the dataframe structure.\n",
    "df.dtypes"
   ]
  },
  {
   "cell_type": "markdown",
   "metadata": {},
   "source": [
    "* We can see that the last 5 columns are of type objects, and therefore they didnt show up when the describe function was run.  \n",
    "* But these columns have null values expressed as \" . \"  \n",
    "* We can fix this in many ways. Let's start by making the \" . \" values into null values.\n"
   ]
  },
  {
   "cell_type": "markdown",
   "metadata": {},
   "source": [
    "### to replace the \" . \" values in dataframe  \n",
    "\n",
    "* Since we have a lot of rows in the dataset, to run through each element in each column, match it and changing the value is time consuming.\n",
    "* Hence we use PySpark functionality to make the process faster. OR we can use dask"
   ]
  },
  {
   "cell_type": "code",
   "execution_count": 10,
   "metadata": {
    "execution": {
     "iopub.execute_input": "2022-03-31T15:49:01.825904Z",
     "iopub.status.busy": "2022-03-31T15:49:01.825712Z",
     "iopub.status.idle": "2022-03-31T15:49:01.887994Z",
     "shell.execute_reply": "2022-03-31T15:49:01.887234Z",
     "shell.execute_reply.started": "2022-03-31T15:49:01.825879Z"
    }
   },
   "outputs": [],
   "source": [
    "# try fixing with pyspark or dask\n",
    "for i in df.columns:\n",
    "    df[i] = df[i].replace('.', np.nan)"
   ]
  },
  {
   "cell_type": "code",
   "execution_count": 11,
   "metadata": {
    "execution": {
     "iopub.execute_input": "2022-03-31T15:49:01.891211Z",
     "iopub.status.busy": "2022-03-31T15:49:01.890965Z",
     "iopub.status.idle": "2022-03-31T15:49:01.898944Z",
     "shell.execute_reply": "2022-03-31T15:49:01.898090Z",
     "shell.execute_reply.started": "2022-03-31T15:49:01.891182Z"
    }
   },
   "outputs": [
    {
     "data": {
      "text/plain": [
       "observation           int64\n",
       "year                  int64\n",
       "month                 int64\n",
       "day                   int64\n",
       "date                  int64\n",
       "latitude            float64\n",
       "longitude           float64\n",
       "zonal winds          object\n",
       "meridional winds     object\n",
       "humidity             object\n",
       "air temp             object\n",
       "sea surface temp     object\n",
       "dtype: object"
      ]
     },
     "execution_count": 11,
     "metadata": {},
     "output_type": "execute_result"
    }
   ],
   "source": [
    "df.dtypes"
   ]
  },
  {
   "cell_type": "markdown",
   "metadata": {},
   "source": [
    "Now we can change the data type of objects to numeric "
   ]
  },
  {
   "cell_type": "code",
   "execution_count": 12,
   "metadata": {
    "execution": {
     "iopub.execute_input": "2022-03-31T15:49:01.900669Z",
     "iopub.status.busy": "2022-03-31T15:49:01.900339Z",
     "iopub.status.idle": "2022-03-31T15:49:01.910953Z",
     "shell.execute_reply": "2022-03-31T15:49:01.909886Z",
     "shell.execute_reply.started": "2022-03-31T15:49:01.900639Z"
    }
   },
   "outputs": [
    {
     "data": {
      "text/plain": [
       "Index(['observation', 'year', 'month', 'day', 'date', 'latitude', 'longitude',\n",
       "       'zonal winds', 'meridional winds', 'humidity', 'air temp',\n",
       "       'sea surface temp'],\n",
       "      dtype='object')"
      ]
     },
     "execution_count": 12,
     "metadata": {},
     "output_type": "execute_result"
    }
   ],
   "source": [
    "df.columns\n"
   ]
  },
  {
   "cell_type": "code",
   "execution_count": 13,
   "metadata": {
    "execution": {
     "iopub.execute_input": "2022-03-31T15:49:01.914108Z",
     "iopub.status.busy": "2022-03-31T15:49:01.913854Z",
     "iopub.status.idle": "2022-03-31T15:49:02.366529Z",
     "shell.execute_reply": "2022-03-31T15:49:02.365284Z",
     "shell.execute_reply.started": "2022-03-31T15:49:01.914071Z"
    }
   },
   "outputs": [],
   "source": [
    "df[['zonal winds', 'meridional winds', 'humidity', 'air temp',\n",
    "       'sea surface temp']] = df[['zonal winds', 'meridional winds', 'humidity', 'air temp',\n",
    "       'sea surface temp']].apply(pd.to_numeric)"
   ]
  },
  {
   "cell_type": "code",
   "execution_count": 14,
   "metadata": {
    "execution": {
     "iopub.execute_input": "2022-03-31T15:49:02.368180Z",
     "iopub.status.busy": "2022-03-31T15:49:02.367888Z",
     "iopub.status.idle": "2022-03-31T15:49:02.376605Z",
     "shell.execute_reply": "2022-03-31T15:49:02.375536Z",
     "shell.execute_reply.started": "2022-03-31T15:49:02.368148Z"
    }
   },
   "outputs": [
    {
     "data": {
      "text/plain": [
       "observation           int64\n",
       "year                  int64\n",
       "month                 int64\n",
       "day                   int64\n",
       "date                  int64\n",
       "latitude            float64\n",
       "longitude           float64\n",
       "zonal winds         float64\n",
       "meridional winds    float64\n",
       "humidity            float64\n",
       "air temp            float64\n",
       "sea surface temp    float64\n",
       "dtype: object"
      ]
     },
     "execution_count": 14,
     "metadata": {},
     "output_type": "execute_result"
    }
   ],
   "source": [
    "df.dtypes"
   ]
  },
  {
   "cell_type": "markdown",
   "metadata": {},
   "source": [
    "# Dealing with null values"
   ]
  },
  {
   "cell_type": "code",
   "execution_count": 15,
   "metadata": {
    "execution": {
     "iopub.execute_input": "2022-03-31T15:49:02.378446Z",
     "iopub.status.busy": "2022-03-31T15:49:02.378112Z",
     "iopub.status.idle": "2022-03-31T15:49:02.401176Z",
     "shell.execute_reply": "2022-03-31T15:49:02.400355Z",
     "shell.execute_reply.started": "2022-03-31T15:49:02.378402Z"
    }
   },
   "outputs": [
    {
     "data": {
      "text/plain": [
       "observation             0\n",
       "year                    0\n",
       "month                   0\n",
       "day                     0\n",
       "date                    0\n",
       "latitude                0\n",
       "longitude               0\n",
       "zonal winds         25163\n",
       "meridional winds    25162\n",
       "humidity            65761\n",
       "air temp            18237\n",
       "sea surface temp    17007\n",
       "dtype: int64"
      ]
     },
     "execution_count": 15,
     "metadata": {},
     "output_type": "execute_result"
    }
   ],
   "source": [
    "df.isna().sum()"
   ]
  },
  {
   "cell_type": "code",
   "execution_count": 16,
   "metadata": {
    "execution": {
     "iopub.execute_input": "2022-03-31T15:49:02.402840Z",
     "iopub.status.busy": "2022-03-31T15:49:02.402607Z",
     "iopub.status.idle": "2022-03-31T15:49:02.529206Z",
     "shell.execute_reply": "2022-03-31T15:49:02.528045Z",
     "shell.execute_reply.started": "2022-03-31T15:49:02.402812Z"
    }
   },
   "outputs": [
    {
     "data": {
      "text/html": [
       "<div>\n",
       "<style scoped>\n",
       "    .dataframe tbody tr th:only-of-type {\n",
       "        vertical-align: middle;\n",
       "    }\n",
       "\n",
       "    .dataframe tbody tr th {\n",
       "        vertical-align: top;\n",
       "    }\n",
       "\n",
       "    .dataframe thead th {\n",
       "        text-align: right;\n",
       "    }\n",
       "</style>\n",
       "<table border=\"1\" class=\"dataframe\">\n",
       "  <thead>\n",
       "    <tr style=\"text-align: right;\">\n",
       "      <th></th>\n",
       "      <th>observation</th>\n",
       "      <th>year</th>\n",
       "      <th>month</th>\n",
       "      <th>day</th>\n",
       "      <th>date</th>\n",
       "      <th>latitude</th>\n",
       "      <th>longitude</th>\n",
       "      <th>zonal winds</th>\n",
       "      <th>meridional winds</th>\n",
       "      <th>humidity</th>\n",
       "      <th>air temp</th>\n",
       "      <th>sea surface temp</th>\n",
       "    </tr>\n",
       "  </thead>\n",
       "  <tbody>\n",
       "    <tr>\n",
       "      <th>count</th>\n",
       "      <td>178080.000000</td>\n",
       "      <td>178080.000000</td>\n",
       "      <td>178080.000000</td>\n",
       "      <td>178080.000000</td>\n",
       "      <td>178080.000000</td>\n",
       "      <td>178080.000000</td>\n",
       "      <td>178080.000000</td>\n",
       "      <td>152917.000000</td>\n",
       "      <td>152918.000000</td>\n",
       "      <td>112319.000000</td>\n",
       "      <td>159843.000000</td>\n",
       "      <td>161073.000000</td>\n",
       "    </tr>\n",
       "    <tr>\n",
       "      <th>mean</th>\n",
       "      <td>89040.500000</td>\n",
       "      <td>93.302325</td>\n",
       "      <td>6.504869</td>\n",
       "      <td>15.720536</td>\n",
       "      <td>933689.455374</td>\n",
       "      <td>0.473626</td>\n",
       "      <td>-54.025233</td>\n",
       "      <td>-3.304772</td>\n",
       "      <td>0.249762</td>\n",
       "      <td>81.236525</td>\n",
       "      <td>26.887567</td>\n",
       "      <td>27.715309</td>\n",
       "    </tr>\n",
       "    <tr>\n",
       "      <th>std</th>\n",
       "      <td>51407.412306</td>\n",
       "      <td>3.393818</td>\n",
       "      <td>3.459657</td>\n",
       "      <td>8.800487</td>\n",
       "      <td>33900.474320</td>\n",
       "      <td>4.583041</td>\n",
       "      <td>135.363994</td>\n",
       "      <td>3.373492</td>\n",
       "      <td>2.999202</td>\n",
       "      <td>5.313061</td>\n",
       "      <td>1.816429</td>\n",
       "      <td>2.057428</td>\n",
       "    </tr>\n",
       "    <tr>\n",
       "      <th>min</th>\n",
       "      <td>1.000000</td>\n",
       "      <td>80.000000</td>\n",
       "      <td>1.000000</td>\n",
       "      <td>1.000000</td>\n",
       "      <td>800307.000000</td>\n",
       "      <td>-8.810000</td>\n",
       "      <td>-180.000000</td>\n",
       "      <td>-12.400000</td>\n",
       "      <td>-11.600000</td>\n",
       "      <td>45.400000</td>\n",
       "      <td>17.050000</td>\n",
       "      <td>17.350000</td>\n",
       "    </tr>\n",
       "    <tr>\n",
       "      <th>25%</th>\n",
       "      <td>44520.750000</td>\n",
       "      <td>92.000000</td>\n",
       "      <td>4.000000</td>\n",
       "      <td>8.000000</td>\n",
       "      <td>920116.000000</td>\n",
       "      <td>-2.010000</td>\n",
       "      <td>-154.950000</td>\n",
       "      <td>-5.800000</td>\n",
       "      <td>-1.700000</td>\n",
       "      <td>77.700000</td>\n",
       "      <td>26.060000</td>\n",
       "      <td>26.770000</td>\n",
       "    </tr>\n",
       "    <tr>\n",
       "      <th>50%</th>\n",
       "      <td>89040.500000</td>\n",
       "      <td>94.000000</td>\n",
       "      <td>6.000000</td>\n",
       "      <td>16.000000</td>\n",
       "      <td>940601.000000</td>\n",
       "      <td>0.010000</td>\n",
       "      <td>-111.260000</td>\n",
       "      <td>-4.000000</td>\n",
       "      <td>0.300000</td>\n",
       "      <td>81.200000</td>\n",
       "      <td>27.340000</td>\n",
       "      <td>28.290000</td>\n",
       "    </tr>\n",
       "    <tr>\n",
       "      <th>75%</th>\n",
       "      <td>133560.250000</td>\n",
       "      <td>96.000000</td>\n",
       "      <td>10.000000</td>\n",
       "      <td>23.000000</td>\n",
       "      <td>960617.000000</td>\n",
       "      <td>4.980000</td>\n",
       "      <td>147.010000</td>\n",
       "      <td>-1.400000</td>\n",
       "      <td>2.300000</td>\n",
       "      <td>84.800000</td>\n",
       "      <td>28.180000</td>\n",
       "      <td>29.230000</td>\n",
       "    </tr>\n",
       "    <tr>\n",
       "      <th>max</th>\n",
       "      <td>178080.000000</td>\n",
       "      <td>98.000000</td>\n",
       "      <td>12.000000</td>\n",
       "      <td>31.000000</td>\n",
       "      <td>980623.000000</td>\n",
       "      <td>9.050000</td>\n",
       "      <td>171.080000</td>\n",
       "      <td>14.300000</td>\n",
       "      <td>13.000000</td>\n",
       "      <td>99.900000</td>\n",
       "      <td>31.660000</td>\n",
       "      <td>31.260000</td>\n",
       "    </tr>\n",
       "  </tbody>\n",
       "</table>\n",
       "</div>"
      ],
      "text/plain": [
       "         observation           year          month            day  \\\n",
       "count  178080.000000  178080.000000  178080.000000  178080.000000   \n",
       "mean    89040.500000      93.302325       6.504869      15.720536   \n",
       "std     51407.412306       3.393818       3.459657       8.800487   \n",
       "min         1.000000      80.000000       1.000000       1.000000   \n",
       "25%     44520.750000      92.000000       4.000000       8.000000   \n",
       "50%     89040.500000      94.000000       6.000000      16.000000   \n",
       "75%    133560.250000      96.000000      10.000000      23.000000   \n",
       "max    178080.000000      98.000000      12.000000      31.000000   \n",
       "\n",
       "                date       latitude      longitude    zonal winds  \\\n",
       "count  178080.000000  178080.000000  178080.000000  152917.000000   \n",
       "mean   933689.455374       0.473626     -54.025233      -3.304772   \n",
       "std     33900.474320       4.583041     135.363994       3.373492   \n",
       "min    800307.000000      -8.810000    -180.000000     -12.400000   \n",
       "25%    920116.000000      -2.010000    -154.950000      -5.800000   \n",
       "50%    940601.000000       0.010000    -111.260000      -4.000000   \n",
       "75%    960617.000000       4.980000     147.010000      -1.400000   \n",
       "max    980623.000000       9.050000     171.080000      14.300000   \n",
       "\n",
       "       meridional winds       humidity       air temp  sea surface temp  \n",
       "count     152918.000000  112319.000000  159843.000000     161073.000000  \n",
       "mean           0.249762      81.236525      26.887567         27.715309  \n",
       "std            2.999202       5.313061       1.816429          2.057428  \n",
       "min          -11.600000      45.400000      17.050000         17.350000  \n",
       "25%           -1.700000      77.700000      26.060000         26.770000  \n",
       "50%            0.300000      81.200000      27.340000         28.290000  \n",
       "75%            2.300000      84.800000      28.180000         29.230000  \n",
       "max           13.000000      99.900000      31.660000         31.260000  "
      ]
     },
     "execution_count": 16,
     "metadata": {},
     "output_type": "execute_result"
    }
   ],
   "source": [
    "df.describe()"
   ]
  },
  {
   "cell_type": "markdown",
   "metadata": {},
   "source": [
    "## Fixing missing values\n"
   ]
  },
  {
   "cell_type": "markdown",
   "metadata": {},
   "source": [
    "In weather data, the weather is mostly consistent over weeks. It is a corner case that the weather changes drastically over night. With this in mind, we can actually impute data based on the values we have for each column.\n",
    "\n",
    "* If there are multiple missing values, they would be the same.\n",
    "* replacing with previosu values works best if the missing values are spread out\n",
    "* for columns with missing values that are spread out, we can try to replace with previous values."
   ]
  },
  {
   "cell_type": "markdown",
   "metadata": {},
   "source": [
    "As we can see about 60% of the Humidity row is missing. And about 25k on zonal winds and meridional winds and about 18k in air tem and sea surface temp."
   ]
  },
  {
   "cell_type": "markdown",
   "metadata": {},
   "source": [
    "Although we can fix it with normal methods, by imputing with mean, understand the type of missingness would help us make a better decision at this point"
   ]
  },
  {
   "cell_type": "markdown",
   "metadata": {},
   "source": [
    "* Missing completely at random (MCAR). When data are MCAR, the fact that the data are missing is independent of the observed and unobserved data.\n",
    "* Missing at random (MAR). When data are MAR, the fact that the data are missing is systematically related to the observed but not the unobserved data.\n",
    "* Missing not at random (MNAR). When data are MNAR, the fact that the data are missing is systematically related to the unobserved data, that is, the missingness is related to events or factors which are not measured by the researcher."
   ]
  },
  {
   "cell_type": "markdown",
   "metadata": {},
   "source": [
    "It is understandable for humidity to be missing, because of the fact that during some days, there might no be any humidity. But missing values in winds, air-temp, sea-surf-temp do not make sense. "
   ]
  },
  {
   "cell_type": "markdown",
   "metadata": {},
   "source": [
    "Let's drop rows with null values and check how much of data we have left."
   ]
  },
  {
   "cell_type": "code",
   "execution_count": 17,
   "metadata": {
    "execution": {
     "iopub.execute_input": "2022-03-31T15:49:02.531334Z",
     "iopub.status.busy": "2022-03-31T15:49:02.530914Z",
     "iopub.status.idle": "2022-03-31T15:49:02.558467Z",
     "shell.execute_reply": "2022-03-31T15:49:02.557556Z",
     "shell.execute_reply.started": "2022-03-31T15:49:02.531288Z"
    }
   },
   "outputs": [],
   "source": [
    "df_no_null = df.dropna()"
   ]
  },
  {
   "cell_type": "code",
   "execution_count": 18,
   "metadata": {
    "execution": {
     "iopub.execute_input": "2022-03-31T15:49:02.562395Z",
     "iopub.status.busy": "2022-03-31T15:49:02.561566Z",
     "iopub.status.idle": "2022-03-31T15:49:02.591419Z",
     "shell.execute_reply": "2022-03-31T15:49:02.589314Z",
     "shell.execute_reply.started": "2022-03-31T15:49:02.562344Z"
    }
   },
   "outputs": [
    {
     "name": "stdout",
     "output_type": "stream",
     "text": [
      "<class 'pandas.core.frame.DataFrame'>\n",
      "RangeIndex: 178080 entries, 0 to 178079\n",
      "Data columns (total 12 columns):\n",
      " #   Column            Non-Null Count   Dtype  \n",
      "---  ------            --------------   -----  \n",
      " 0   observation       178080 non-null  int64  \n",
      " 1   year              178080 non-null  int64  \n",
      " 2   month             178080 non-null  int64  \n",
      " 3   day               178080 non-null  int64  \n",
      " 4   date              178080 non-null  int64  \n",
      " 5   latitude          178080 non-null  float64\n",
      " 6   longitude         178080 non-null  float64\n",
      " 7   zonal winds       152917 non-null  float64\n",
      " 8   meridional winds  152918 non-null  float64\n",
      " 9   humidity          112319 non-null  float64\n",
      " 10  air temp          159843 non-null  float64\n",
      " 11  sea surface temp  161073 non-null  float64\n",
      "dtypes: float64(7), int64(5)\n",
      "memory usage: 16.3 MB\n"
     ]
    }
   ],
   "source": [
    "df.info()"
   ]
  },
  {
   "cell_type": "code",
   "execution_count": 19,
   "metadata": {
    "execution": {
     "iopub.execute_input": "2022-03-31T15:49:02.593925Z",
     "iopub.status.busy": "2022-03-31T15:49:02.593636Z",
     "iopub.status.idle": "2022-03-31T15:49:02.614182Z",
     "shell.execute_reply": "2022-03-31T15:49:02.613098Z",
     "shell.execute_reply.started": "2022-03-31T15:49:02.593891Z"
    }
   },
   "outputs": [
    {
     "name": "stdout",
     "output_type": "stream",
     "text": [
      "<class 'pandas.core.frame.DataFrame'>\n",
      "Int64Index: 93935 entries, 4059 to 178078\n",
      "Data columns (total 12 columns):\n",
      " #   Column            Non-Null Count  Dtype  \n",
      "---  ------            --------------  -----  \n",
      " 0   observation       93935 non-null  int64  \n",
      " 1   year              93935 non-null  int64  \n",
      " 2   month             93935 non-null  int64  \n",
      " 3   day               93935 non-null  int64  \n",
      " 4   date              93935 non-null  int64  \n",
      " 5   latitude          93935 non-null  float64\n",
      " 6   longitude         93935 non-null  float64\n",
      " 7   zonal winds       93935 non-null  float64\n",
      " 8   meridional winds  93935 non-null  float64\n",
      " 9   humidity          93935 non-null  float64\n",
      " 10  air temp          93935 non-null  float64\n",
      " 11  sea surface temp  93935 non-null  float64\n",
      "dtypes: float64(7), int64(5)\n",
      "memory usage: 9.3 MB\n"
     ]
    }
   ],
   "source": [
    "df_no_null.info()"
   ]
  },
  {
   "cell_type": "markdown",
   "metadata": {},
   "source": [
    "We lose a lot of data! Hence dropping all the null rows does not make sense. We lose too much data"
   ]
  },
  {
   "cell_type": "markdown",
   "metadata": {},
   "source": [
    "Let's fill air temp and sea surface temp with average values, since they have the least number of missing values"
   ]
  },
  {
   "cell_type": "markdown",
   "metadata": {},
   "source": [
    "Let's subset the df so we don't lose our original data"
   ]
  },
  {
   "cell_type": "code",
   "execution_count": 20,
   "metadata": {
    "execution": {
     "iopub.execute_input": "2022-03-31T15:49:02.617012Z",
     "iopub.status.busy": "2022-03-31T15:49:02.616089Z",
     "iopub.status.idle": "2022-03-31T15:49:02.640606Z",
     "shell.execute_reply": "2022-03-31T15:49:02.639110Z",
     "shell.execute_reply.started": "2022-03-31T15:49:02.616965Z"
    }
   },
   "outputs": [
    {
     "data": {
      "text/html": [
       "<div>\n",
       "<style scoped>\n",
       "    .dataframe tbody tr th:only-of-type {\n",
       "        vertical-align: middle;\n",
       "    }\n",
       "\n",
       "    .dataframe tbody tr th {\n",
       "        vertical-align: top;\n",
       "    }\n",
       "\n",
       "    .dataframe thead th {\n",
       "        text-align: right;\n",
       "    }\n",
       "</style>\n",
       "<table border=\"1\" class=\"dataframe\">\n",
       "  <thead>\n",
       "    <tr style=\"text-align: right;\">\n",
       "      <th></th>\n",
       "      <th>observation</th>\n",
       "      <th>year</th>\n",
       "      <th>month</th>\n",
       "      <th>day</th>\n",
       "      <th>date</th>\n",
       "      <th>latitude</th>\n",
       "      <th>longitude</th>\n",
       "      <th>zonal winds</th>\n",
       "      <th>meridional winds</th>\n",
       "      <th>humidity</th>\n",
       "      <th>air temp</th>\n",
       "      <th>sea surface temp</th>\n",
       "    </tr>\n",
       "  </thead>\n",
       "  <tbody>\n",
       "    <tr>\n",
       "      <th>0</th>\n",
       "      <td>1</td>\n",
       "      <td>80</td>\n",
       "      <td>3</td>\n",
       "      <td>7</td>\n",
       "      <td>800307</td>\n",
       "      <td>-0.02</td>\n",
       "      <td>-109.46</td>\n",
       "      <td>-6.8</td>\n",
       "      <td>0.7</td>\n",
       "      <td>NaN</td>\n",
       "      <td>26.14</td>\n",
       "      <td>26.24</td>\n",
       "    </tr>\n",
       "    <tr>\n",
       "      <th>1</th>\n",
       "      <td>2</td>\n",
       "      <td>80</td>\n",
       "      <td>3</td>\n",
       "      <td>8</td>\n",
       "      <td>800308</td>\n",
       "      <td>-0.02</td>\n",
       "      <td>-109.46</td>\n",
       "      <td>-4.9</td>\n",
       "      <td>1.1</td>\n",
       "      <td>NaN</td>\n",
       "      <td>25.66</td>\n",
       "      <td>25.97</td>\n",
       "    </tr>\n",
       "    <tr>\n",
       "      <th>2</th>\n",
       "      <td>3</td>\n",
       "      <td>80</td>\n",
       "      <td>3</td>\n",
       "      <td>9</td>\n",
       "      <td>800309</td>\n",
       "      <td>-0.02</td>\n",
       "      <td>-109.46</td>\n",
       "      <td>-4.5</td>\n",
       "      <td>2.2</td>\n",
       "      <td>NaN</td>\n",
       "      <td>25.69</td>\n",
       "      <td>25.28</td>\n",
       "    </tr>\n",
       "    <tr>\n",
       "      <th>3</th>\n",
       "      <td>4</td>\n",
       "      <td>80</td>\n",
       "      <td>3</td>\n",
       "      <td>10</td>\n",
       "      <td>800310</td>\n",
       "      <td>-0.02</td>\n",
       "      <td>-109.46</td>\n",
       "      <td>-3.8</td>\n",
       "      <td>1.9</td>\n",
       "      <td>NaN</td>\n",
       "      <td>25.57</td>\n",
       "      <td>24.31</td>\n",
       "    </tr>\n",
       "    <tr>\n",
       "      <th>4</th>\n",
       "      <td>5</td>\n",
       "      <td>80</td>\n",
       "      <td>3</td>\n",
       "      <td>11</td>\n",
       "      <td>800311</td>\n",
       "      <td>-0.02</td>\n",
       "      <td>-109.46</td>\n",
       "      <td>-4.2</td>\n",
       "      <td>1.5</td>\n",
       "      <td>NaN</td>\n",
       "      <td>25.30</td>\n",
       "      <td>23.19</td>\n",
       "    </tr>\n",
       "  </tbody>\n",
       "</table>\n",
       "</div>"
      ],
      "text/plain": [
       "   observation  year  month  day    date  latitude  longitude  zonal winds  \\\n",
       "0            1    80      3    7  800307     -0.02    -109.46         -6.8   \n",
       "1            2    80      3    8  800308     -0.02    -109.46         -4.9   \n",
       "2            3    80      3    9  800309     -0.02    -109.46         -4.5   \n",
       "3            4    80      3   10  800310     -0.02    -109.46         -3.8   \n",
       "4            5    80      3   11  800311     -0.02    -109.46         -4.2   \n",
       "\n",
       "   meridional winds  humidity  air temp  sea surface temp  \n",
       "0               0.7       NaN     26.14             26.24  \n",
       "1               1.1       NaN     25.66             25.97  \n",
       "2               2.2       NaN     25.69             25.28  \n",
       "3               1.9       NaN     25.57             24.31  \n",
       "4               1.5       NaN     25.30             23.19  "
      ]
     },
     "execution_count": 20,
     "metadata": {},
     "output_type": "execute_result"
    }
   ],
   "source": [
    "df.head()"
   ]
  },
  {
   "cell_type": "code",
   "execution_count": 21,
   "metadata": {
    "execution": {
     "iopub.execute_input": "2022-03-31T15:49:02.642829Z",
     "iopub.status.busy": "2022-03-31T15:49:02.642531Z",
     "iopub.status.idle": "2022-03-31T15:49:02.647828Z",
     "shell.execute_reply": "2022-03-31T15:49:02.646597Z",
     "shell.execute_reply.started": "2022-03-31T15:49:02.642797Z"
    }
   },
   "outputs": [],
   "source": [
    "df_clean = df"
   ]
  },
  {
   "cell_type": "code",
   "execution_count": 22,
   "metadata": {
    "execution": {
     "iopub.execute_input": "2022-03-31T15:49:02.650052Z",
     "iopub.status.busy": "2022-03-31T15:49:02.649511Z",
     "iopub.status.idle": "2022-03-31T15:49:02.677684Z",
     "shell.execute_reply": "2022-03-31T15:49:02.676772Z",
     "shell.execute_reply.started": "2022-03-31T15:49:02.650013Z"
    }
   },
   "outputs": [
    {
     "name": "stdout",
     "output_type": "stream",
     "text": [
      "<class 'pandas.core.frame.DataFrame'>\n",
      "RangeIndex: 178080 entries, 0 to 178079\n",
      "Data columns (total 12 columns):\n",
      " #   Column            Non-Null Count   Dtype  \n",
      "---  ------            --------------   -----  \n",
      " 0   observation       178080 non-null  int64  \n",
      " 1   year              178080 non-null  int64  \n",
      " 2   month             178080 non-null  int64  \n",
      " 3   day               178080 non-null  int64  \n",
      " 4   date              178080 non-null  int64  \n",
      " 5   latitude          178080 non-null  float64\n",
      " 6   longitude         178080 non-null  float64\n",
      " 7   zonal winds       152917 non-null  float64\n",
      " 8   meridional winds  152918 non-null  float64\n",
      " 9   humidity          112319 non-null  float64\n",
      " 10  air temp          159843 non-null  float64\n",
      " 11  sea surface temp  161073 non-null  float64\n",
      "dtypes: float64(7), int64(5)\n",
      "memory usage: 16.3 MB\n"
     ]
    }
   ],
   "source": [
    "df_clean.info()"
   ]
  },
  {
   "cell_type": "code",
   "execution_count": 23,
   "metadata": {
    "execution": {
     "iopub.execute_input": "2022-03-31T15:49:02.679429Z",
     "iopub.status.busy": "2022-03-31T15:49:02.679188Z",
     "iopub.status.idle": "2022-03-31T15:49:02.710241Z",
     "shell.execute_reply": "2022-03-31T15:49:02.709088Z",
     "shell.execute_reply.started": "2022-03-31T15:49:02.679402Z"
    }
   },
   "outputs": [
    {
     "data": {
      "text/plain": [
       "humidity            36.927785\n",
       "zonal winds         14.130166\n",
       "meridional winds    14.129605\n",
       "air temp            10.240903\n",
       "sea surface temp     9.550202\n",
       "date                 0.000000\n",
       "day                  0.000000\n",
       "latitude             0.000000\n",
       "longitude            0.000000\n",
       "month                0.000000\n",
       "observation          0.000000\n",
       "year                 0.000000\n",
       "dtype: float64"
      ]
     },
     "execution_count": 23,
     "metadata": {},
     "output_type": "execute_result"
    }
   ],
   "source": [
    "missing_total = df_clean.isnull().sum().sort_values(ascending=False)\n",
    "percent = ((missing_total*100)/(df_clean.isnull().count())).sort_values(ascending=False)\n",
    "percent"
   ]
  },
  {
   "cell_type": "markdown",
   "metadata": {},
   "source": [
    "* calculate percentage of missing values and then you can display it directly\n",
    "* more than 15% data is missing -> drop column\n",
    "* otherwise try to fix it"
   ]
  },
  {
   "cell_type": "markdown",
   "metadata": {},
   "source": []
  },
  {
   "cell_type": "code",
   "execution_count": 24,
   "metadata": {
    "execution": {
     "iopub.execute_input": "2022-03-31T15:49:02.712281Z",
     "iopub.status.busy": "2022-03-31T15:49:02.711919Z",
     "iopub.status.idle": "2022-03-31T15:49:02.730632Z",
     "shell.execute_reply": "2022-03-31T15:49:02.727656Z",
     "shell.execute_reply.started": "2022-03-31T15:49:02.712235Z"
    }
   },
   "outputs": [],
   "source": [
    "df_clean['air temp'] = df_clean['air temp'].fillna(value=df_clean['air temp'].mean())\n",
    "df_clean['sea surface temp'] = df_clean['sea surface temp'].fillna(value=df_clean['sea surface temp'].mean())"
   ]
  },
  {
   "cell_type": "code",
   "execution_count": 25,
   "metadata": {
    "execution": {
     "iopub.execute_input": "2022-03-31T15:49:02.732560Z",
     "iopub.status.busy": "2022-03-31T15:49:02.732173Z",
     "iopub.status.idle": "2022-03-31T15:49:02.759798Z",
     "shell.execute_reply": "2022-03-31T15:49:02.758224Z",
     "shell.execute_reply.started": "2022-03-31T15:49:02.732513Z"
    }
   },
   "outputs": [
    {
     "name": "stdout",
     "output_type": "stream",
     "text": [
      "<class 'pandas.core.frame.DataFrame'>\n",
      "RangeIndex: 178080 entries, 0 to 178079\n",
      "Data columns (total 12 columns):\n",
      " #   Column            Non-Null Count   Dtype  \n",
      "---  ------            --------------   -----  \n",
      " 0   observation       178080 non-null  int64  \n",
      " 1   year              178080 non-null  int64  \n",
      " 2   month             178080 non-null  int64  \n",
      " 3   day               178080 non-null  int64  \n",
      " 4   date              178080 non-null  int64  \n",
      " 5   latitude          178080 non-null  float64\n",
      " 6   longitude         178080 non-null  float64\n",
      " 7   zonal winds       152917 non-null  float64\n",
      " 8   meridional winds  152918 non-null  float64\n",
      " 9   humidity          112319 non-null  float64\n",
      " 10  air temp          178080 non-null  float64\n",
      " 11  sea surface temp  178080 non-null  float64\n",
      "dtypes: float64(7), int64(5)\n",
      "memory usage: 16.3 MB\n"
     ]
    }
   ],
   "source": [
    "df_clean.info()"
   ]
  },
  {
   "cell_type": "code",
   "execution_count": 26,
   "metadata": {
    "execution": {
     "iopub.execute_input": "2022-03-31T15:49:02.761922Z",
     "iopub.status.busy": "2022-03-31T15:49:02.761643Z",
     "iopub.status.idle": "2022-03-31T15:49:02.884193Z",
     "shell.execute_reply": "2022-03-31T15:49:02.882736Z",
     "shell.execute_reply.started": "2022-03-31T15:49:02.761893Z"
    }
   },
   "outputs": [
    {
     "data": {
      "text/html": [
       "<div>\n",
       "<style scoped>\n",
       "    .dataframe tbody tr th:only-of-type {\n",
       "        vertical-align: middle;\n",
       "    }\n",
       "\n",
       "    .dataframe tbody tr th {\n",
       "        vertical-align: top;\n",
       "    }\n",
       "\n",
       "    .dataframe thead th {\n",
       "        text-align: right;\n",
       "    }\n",
       "</style>\n",
       "<table border=\"1\" class=\"dataframe\">\n",
       "  <thead>\n",
       "    <tr style=\"text-align: right;\">\n",
       "      <th></th>\n",
       "      <th>observation</th>\n",
       "      <th>year</th>\n",
       "      <th>month</th>\n",
       "      <th>day</th>\n",
       "      <th>date</th>\n",
       "      <th>latitude</th>\n",
       "      <th>longitude</th>\n",
       "      <th>zonal winds</th>\n",
       "      <th>meridional winds</th>\n",
       "      <th>humidity</th>\n",
       "      <th>air temp</th>\n",
       "      <th>sea surface temp</th>\n",
       "    </tr>\n",
       "  </thead>\n",
       "  <tbody>\n",
       "    <tr>\n",
       "      <th>count</th>\n",
       "      <td>178080.000000</td>\n",
       "      <td>178080.000000</td>\n",
       "      <td>178080.000000</td>\n",
       "      <td>178080.000000</td>\n",
       "      <td>178080.000000</td>\n",
       "      <td>178080.000000</td>\n",
       "      <td>178080.000000</td>\n",
       "      <td>152917.000000</td>\n",
       "      <td>152918.000000</td>\n",
       "      <td>112319.000000</td>\n",
       "      <td>178080.000000</td>\n",
       "      <td>178080.000000</td>\n",
       "    </tr>\n",
       "    <tr>\n",
       "      <th>mean</th>\n",
       "      <td>89040.500000</td>\n",
       "      <td>93.302325</td>\n",
       "      <td>6.504869</td>\n",
       "      <td>15.720536</td>\n",
       "      <td>933689.455374</td>\n",
       "      <td>0.473626</td>\n",
       "      <td>-54.025233</td>\n",
       "      <td>-3.304772</td>\n",
       "      <td>0.249762</td>\n",
       "      <td>81.236525</td>\n",
       "      <td>26.887567</td>\n",
       "      <td>27.715309</td>\n",
       "    </tr>\n",
       "    <tr>\n",
       "      <th>std</th>\n",
       "      <td>51407.412306</td>\n",
       "      <td>3.393818</td>\n",
       "      <td>3.459657</td>\n",
       "      <td>8.800487</td>\n",
       "      <td>33900.474320</td>\n",
       "      <td>4.583041</td>\n",
       "      <td>135.363994</td>\n",
       "      <td>3.373492</td>\n",
       "      <td>2.999202</td>\n",
       "      <td>5.313061</td>\n",
       "      <td>1.720908</td>\n",
       "      <td>1.956718</td>\n",
       "    </tr>\n",
       "    <tr>\n",
       "      <th>min</th>\n",
       "      <td>1.000000</td>\n",
       "      <td>80.000000</td>\n",
       "      <td>1.000000</td>\n",
       "      <td>1.000000</td>\n",
       "      <td>800307.000000</td>\n",
       "      <td>-8.810000</td>\n",
       "      <td>-180.000000</td>\n",
       "      <td>-12.400000</td>\n",
       "      <td>-11.600000</td>\n",
       "      <td>45.400000</td>\n",
       "      <td>17.050000</td>\n",
       "      <td>17.350000</td>\n",
       "    </tr>\n",
       "    <tr>\n",
       "      <th>25%</th>\n",
       "      <td>44520.750000</td>\n",
       "      <td>92.000000</td>\n",
       "      <td>4.000000</td>\n",
       "      <td>8.000000</td>\n",
       "      <td>920116.000000</td>\n",
       "      <td>-2.010000</td>\n",
       "      <td>-154.950000</td>\n",
       "      <td>-5.800000</td>\n",
       "      <td>-1.700000</td>\n",
       "      <td>77.700000</td>\n",
       "      <td>26.270000</td>\n",
       "      <td>26.990000</td>\n",
       "    </tr>\n",
       "    <tr>\n",
       "      <th>50%</th>\n",
       "      <td>89040.500000</td>\n",
       "      <td>94.000000</td>\n",
       "      <td>6.000000</td>\n",
       "      <td>16.000000</td>\n",
       "      <td>940601.000000</td>\n",
       "      <td>0.010000</td>\n",
       "      <td>-111.260000</td>\n",
       "      <td>-4.000000</td>\n",
       "      <td>0.300000</td>\n",
       "      <td>81.200000</td>\n",
       "      <td>27.120000</td>\n",
       "      <td>28.030000</td>\n",
       "    </tr>\n",
       "    <tr>\n",
       "      <th>75%</th>\n",
       "      <td>133560.250000</td>\n",
       "      <td>96.000000</td>\n",
       "      <td>10.000000</td>\n",
       "      <td>23.000000</td>\n",
       "      <td>960617.000000</td>\n",
       "      <td>4.980000</td>\n",
       "      <td>147.010000</td>\n",
       "      <td>-1.400000</td>\n",
       "      <td>2.300000</td>\n",
       "      <td>84.800000</td>\n",
       "      <td>28.080000</td>\n",
       "      <td>29.150000</td>\n",
       "    </tr>\n",
       "    <tr>\n",
       "      <th>max</th>\n",
       "      <td>178080.000000</td>\n",
       "      <td>98.000000</td>\n",
       "      <td>12.000000</td>\n",
       "      <td>31.000000</td>\n",
       "      <td>980623.000000</td>\n",
       "      <td>9.050000</td>\n",
       "      <td>171.080000</td>\n",
       "      <td>14.300000</td>\n",
       "      <td>13.000000</td>\n",
       "      <td>99.900000</td>\n",
       "      <td>31.660000</td>\n",
       "      <td>31.260000</td>\n",
       "    </tr>\n",
       "  </tbody>\n",
       "</table>\n",
       "</div>"
      ],
      "text/plain": [
       "         observation           year          month            day  \\\n",
       "count  178080.000000  178080.000000  178080.000000  178080.000000   \n",
       "mean    89040.500000      93.302325       6.504869      15.720536   \n",
       "std     51407.412306       3.393818       3.459657       8.800487   \n",
       "min         1.000000      80.000000       1.000000       1.000000   \n",
       "25%     44520.750000      92.000000       4.000000       8.000000   \n",
       "50%     89040.500000      94.000000       6.000000      16.000000   \n",
       "75%    133560.250000      96.000000      10.000000      23.000000   \n",
       "max    178080.000000      98.000000      12.000000      31.000000   \n",
       "\n",
       "                date       latitude      longitude    zonal winds  \\\n",
       "count  178080.000000  178080.000000  178080.000000  152917.000000   \n",
       "mean   933689.455374       0.473626     -54.025233      -3.304772   \n",
       "std     33900.474320       4.583041     135.363994       3.373492   \n",
       "min    800307.000000      -8.810000    -180.000000     -12.400000   \n",
       "25%    920116.000000      -2.010000    -154.950000      -5.800000   \n",
       "50%    940601.000000       0.010000    -111.260000      -4.000000   \n",
       "75%    960617.000000       4.980000     147.010000      -1.400000   \n",
       "max    980623.000000       9.050000     171.080000      14.300000   \n",
       "\n",
       "       meridional winds       humidity       air temp  sea surface temp  \n",
       "count     152918.000000  112319.000000  178080.000000     178080.000000  \n",
       "mean           0.249762      81.236525      26.887567         27.715309  \n",
       "std            2.999202       5.313061       1.720908          1.956718  \n",
       "min          -11.600000      45.400000      17.050000         17.350000  \n",
       "25%           -1.700000      77.700000      26.270000         26.990000  \n",
       "50%            0.300000      81.200000      27.120000         28.030000  \n",
       "75%            2.300000      84.800000      28.080000         29.150000  \n",
       "max           13.000000      99.900000      31.660000         31.260000  "
      ]
     },
     "execution_count": 26,
     "metadata": {},
     "output_type": "execute_result"
    }
   ],
   "source": [
    "df_clean.describe()"
   ]
  },
  {
   "cell_type": "code",
   "execution_count": 27,
   "metadata": {
    "execution": {
     "iopub.execute_input": "2022-03-31T15:49:02.886155Z",
     "iopub.status.busy": "2022-03-31T15:49:02.885788Z",
     "iopub.status.idle": "2022-03-31T15:49:03.015821Z",
     "shell.execute_reply": "2022-03-31T15:49:03.014151Z",
     "shell.execute_reply.started": "2022-03-31T15:49:02.886114Z"
    }
   },
   "outputs": [
    {
     "data": {
      "text/html": [
       "<div>\n",
       "<style scoped>\n",
       "    .dataframe tbody tr th:only-of-type {\n",
       "        vertical-align: middle;\n",
       "    }\n",
       "\n",
       "    .dataframe tbody tr th {\n",
       "        vertical-align: top;\n",
       "    }\n",
       "\n",
       "    .dataframe thead th {\n",
       "        text-align: right;\n",
       "    }\n",
       "</style>\n",
       "<table border=\"1\" class=\"dataframe\">\n",
       "  <thead>\n",
       "    <tr style=\"text-align: right;\">\n",
       "      <th></th>\n",
       "      <th>observation</th>\n",
       "      <th>year</th>\n",
       "      <th>month</th>\n",
       "      <th>day</th>\n",
       "      <th>date</th>\n",
       "      <th>latitude</th>\n",
       "      <th>longitude</th>\n",
       "      <th>zonal winds</th>\n",
       "      <th>meridional winds</th>\n",
       "      <th>humidity</th>\n",
       "      <th>air temp</th>\n",
       "      <th>sea surface temp</th>\n",
       "    </tr>\n",
       "  </thead>\n",
       "  <tbody>\n",
       "    <tr>\n",
       "      <th>count</th>\n",
       "      <td>178080.000000</td>\n",
       "      <td>178080.000000</td>\n",
       "      <td>178080.000000</td>\n",
       "      <td>178080.000000</td>\n",
       "      <td>178080.000000</td>\n",
       "      <td>178080.000000</td>\n",
       "      <td>178080.000000</td>\n",
       "      <td>152917.000000</td>\n",
       "      <td>152918.000000</td>\n",
       "      <td>112319.000000</td>\n",
       "      <td>178080.000000</td>\n",
       "      <td>178080.000000</td>\n",
       "    </tr>\n",
       "    <tr>\n",
       "      <th>mean</th>\n",
       "      <td>89040.500000</td>\n",
       "      <td>93.302325</td>\n",
       "      <td>6.504869</td>\n",
       "      <td>15.720536</td>\n",
       "      <td>933689.455374</td>\n",
       "      <td>0.473626</td>\n",
       "      <td>-54.025233</td>\n",
       "      <td>-3.304772</td>\n",
       "      <td>0.249762</td>\n",
       "      <td>81.236525</td>\n",
       "      <td>26.887567</td>\n",
       "      <td>27.715309</td>\n",
       "    </tr>\n",
       "    <tr>\n",
       "      <th>std</th>\n",
       "      <td>51407.412306</td>\n",
       "      <td>3.393818</td>\n",
       "      <td>3.459657</td>\n",
       "      <td>8.800487</td>\n",
       "      <td>33900.474320</td>\n",
       "      <td>4.583041</td>\n",
       "      <td>135.363994</td>\n",
       "      <td>3.373492</td>\n",
       "      <td>2.999202</td>\n",
       "      <td>5.313061</td>\n",
       "      <td>1.720908</td>\n",
       "      <td>1.956718</td>\n",
       "    </tr>\n",
       "    <tr>\n",
       "      <th>min</th>\n",
       "      <td>1.000000</td>\n",
       "      <td>80.000000</td>\n",
       "      <td>1.000000</td>\n",
       "      <td>1.000000</td>\n",
       "      <td>800307.000000</td>\n",
       "      <td>-8.810000</td>\n",
       "      <td>-180.000000</td>\n",
       "      <td>-12.400000</td>\n",
       "      <td>-11.600000</td>\n",
       "      <td>45.400000</td>\n",
       "      <td>17.050000</td>\n",
       "      <td>17.350000</td>\n",
       "    </tr>\n",
       "    <tr>\n",
       "      <th>25%</th>\n",
       "      <td>44520.750000</td>\n",
       "      <td>92.000000</td>\n",
       "      <td>4.000000</td>\n",
       "      <td>8.000000</td>\n",
       "      <td>920116.000000</td>\n",
       "      <td>-2.010000</td>\n",
       "      <td>-154.950000</td>\n",
       "      <td>-5.800000</td>\n",
       "      <td>-1.700000</td>\n",
       "      <td>77.700000</td>\n",
       "      <td>26.270000</td>\n",
       "      <td>26.990000</td>\n",
       "    </tr>\n",
       "    <tr>\n",
       "      <th>50%</th>\n",
       "      <td>89040.500000</td>\n",
       "      <td>94.000000</td>\n",
       "      <td>6.000000</td>\n",
       "      <td>16.000000</td>\n",
       "      <td>940601.000000</td>\n",
       "      <td>0.010000</td>\n",
       "      <td>-111.260000</td>\n",
       "      <td>-4.000000</td>\n",
       "      <td>0.300000</td>\n",
       "      <td>81.200000</td>\n",
       "      <td>27.120000</td>\n",
       "      <td>28.030000</td>\n",
       "    </tr>\n",
       "    <tr>\n",
       "      <th>75%</th>\n",
       "      <td>133560.250000</td>\n",
       "      <td>96.000000</td>\n",
       "      <td>10.000000</td>\n",
       "      <td>23.000000</td>\n",
       "      <td>960617.000000</td>\n",
       "      <td>4.980000</td>\n",
       "      <td>147.010000</td>\n",
       "      <td>-1.400000</td>\n",
       "      <td>2.300000</td>\n",
       "      <td>84.800000</td>\n",
       "      <td>28.080000</td>\n",
       "      <td>29.150000</td>\n",
       "    </tr>\n",
       "    <tr>\n",
       "      <th>max</th>\n",
       "      <td>178080.000000</td>\n",
       "      <td>98.000000</td>\n",
       "      <td>12.000000</td>\n",
       "      <td>31.000000</td>\n",
       "      <td>980623.000000</td>\n",
       "      <td>9.050000</td>\n",
       "      <td>171.080000</td>\n",
       "      <td>14.300000</td>\n",
       "      <td>13.000000</td>\n",
       "      <td>99.900000</td>\n",
       "      <td>31.660000</td>\n",
       "      <td>31.260000</td>\n",
       "    </tr>\n",
       "  </tbody>\n",
       "</table>\n",
       "</div>"
      ],
      "text/plain": [
       "         observation           year          month            day  \\\n",
       "count  178080.000000  178080.000000  178080.000000  178080.000000   \n",
       "mean    89040.500000      93.302325       6.504869      15.720536   \n",
       "std     51407.412306       3.393818       3.459657       8.800487   \n",
       "min         1.000000      80.000000       1.000000       1.000000   \n",
       "25%     44520.750000      92.000000       4.000000       8.000000   \n",
       "50%     89040.500000      94.000000       6.000000      16.000000   \n",
       "75%    133560.250000      96.000000      10.000000      23.000000   \n",
       "max    178080.000000      98.000000      12.000000      31.000000   \n",
       "\n",
       "                date       latitude      longitude    zonal winds  \\\n",
       "count  178080.000000  178080.000000  178080.000000  152917.000000   \n",
       "mean   933689.455374       0.473626     -54.025233      -3.304772   \n",
       "std     33900.474320       4.583041     135.363994       3.373492   \n",
       "min    800307.000000      -8.810000    -180.000000     -12.400000   \n",
       "25%    920116.000000      -2.010000    -154.950000      -5.800000   \n",
       "50%    940601.000000       0.010000    -111.260000      -4.000000   \n",
       "75%    960617.000000       4.980000     147.010000      -1.400000   \n",
       "max    980623.000000       9.050000     171.080000      14.300000   \n",
       "\n",
       "       meridional winds       humidity       air temp  sea surface temp  \n",
       "count     152918.000000  112319.000000  178080.000000     178080.000000  \n",
       "mean           0.249762      81.236525      26.887567         27.715309  \n",
       "std            2.999202       5.313061       1.720908          1.956718  \n",
       "min          -11.600000      45.400000      17.050000         17.350000  \n",
       "25%           -1.700000      77.700000      26.270000         26.990000  \n",
       "50%            0.300000      81.200000      27.120000         28.030000  \n",
       "75%            2.300000      84.800000      28.080000         29.150000  \n",
       "max           13.000000      99.900000      31.660000         31.260000  "
      ]
     },
     "execution_count": 27,
     "metadata": {},
     "output_type": "execute_result"
    }
   ],
   "source": [
    "df.describe()"
   ]
  },
  {
   "cell_type": "markdown",
   "metadata": {},
   "source": [
    "As we can compare from the above tables. the statistics did not change after replacing the missing values with mean. "
   ]
  },
  {
   "cell_type": "code",
   "execution_count": 28,
   "metadata": {
    "execution": {
     "iopub.execute_input": "2022-03-31T15:49:03.019091Z",
     "iopub.status.busy": "2022-03-31T15:49:03.017609Z",
     "iopub.status.idle": "2022-03-31T15:49:03.037007Z",
     "shell.execute_reply": "2022-03-31T15:49:03.035756Z",
     "shell.execute_reply.started": "2022-03-31T15:49:03.019033Z"
    }
   },
   "outputs": [
    {
     "data": {
      "text/plain": [
       "observation             0\n",
       "year                    0\n",
       "month                   0\n",
       "day                     0\n",
       "date                    0\n",
       "latitude                0\n",
       "longitude               0\n",
       "zonal winds         25163\n",
       "meridional winds    25162\n",
       "humidity            65761\n",
       "air temp                0\n",
       "sea surface temp        0\n",
       "dtype: int64"
      ]
     },
     "execution_count": 28,
     "metadata": {},
     "output_type": "execute_result"
    }
   ],
   "source": [
    "df_clean.isna().sum()"
   ]
  },
  {
   "cell_type": "markdown",
   "metadata": {},
   "source": [
    "Filling in missing values with previous values for the winds column might not be the best idea. Because if the missing values are continous, the all the 25k rows will have the same values"
   ]
  },
  {
   "cell_type": "markdown",
   "metadata": {},
   "source": [
    "### Trying sci-kit learn imputers"
   ]
  },
  {
   "cell_type": "code",
   "execution_count": null,
   "metadata": {},
   "outputs": [],
   "source": []
  },
  {
   "cell_type": "code",
   "execution_count": 29,
   "metadata": {
    "execution": {
     "iopub.execute_input": "2022-03-31T15:49:03.044744Z",
     "iopub.status.busy": "2022-03-31T15:49:03.043994Z",
     "iopub.status.idle": "2022-03-31T15:49:03.453318Z",
     "shell.execute_reply": "2022-03-31T15:49:03.452039Z",
     "shell.execute_reply.started": "2022-03-31T15:49:03.044702Z"
    }
   },
   "outputs": [],
   "source": [
    "import sklearn.impute\n",
    "from sklearn import impute\n",
    "from sklearn.impute import SimpleImputer\n",
    "imp = SimpleImputer(missing_values=np.nan, strategy='most_frequent')"
   ]
  },
  {
   "cell_type": "markdown",
   "metadata": {},
   "source": [
    "* most frequent only checks the column? Yes\n",
    "* fix: Use group by and fix according to the group mean of the rows."
   ]
  },
  {
   "cell_type": "code",
   "execution_count": 30,
   "metadata": {
    "execution": {
     "iopub.execute_input": "2022-03-31T15:49:03.455842Z",
     "iopub.status.busy": "2022-03-31T15:49:03.455409Z",
     "iopub.status.idle": "2022-03-31T15:49:03.496226Z",
     "shell.execute_reply": "2022-03-31T15:49:03.495547Z",
     "shell.execute_reply.started": "2022-03-31T15:49:03.455796Z"
    }
   },
   "outputs": [],
   "source": [
    "df_clean[['zonal winds','meridional winds']]=imp.fit_transform(df_clean[['zonal winds','meridional winds']])"
   ]
  },
  {
   "cell_type": "code",
   "execution_count": 31,
   "metadata": {
    "execution": {
     "iopub.execute_input": "2022-03-31T15:49:03.498109Z",
     "iopub.status.busy": "2022-03-31T15:49:03.497339Z",
     "iopub.status.idle": "2022-03-31T15:49:03.518284Z",
     "shell.execute_reply": "2022-03-31T15:49:03.516962Z",
     "shell.execute_reply.started": "2022-03-31T15:49:03.498070Z"
    }
   },
   "outputs": [
    {
     "name": "stdout",
     "output_type": "stream",
     "text": [
      "<class 'pandas.core.frame.DataFrame'>\n",
      "RangeIndex: 178080 entries, 0 to 178079\n",
      "Data columns (total 12 columns):\n",
      " #   Column            Non-Null Count   Dtype  \n",
      "---  ------            --------------   -----  \n",
      " 0   observation       178080 non-null  int64  \n",
      " 1   year              178080 non-null  int64  \n",
      " 2   month             178080 non-null  int64  \n",
      " 3   day               178080 non-null  int64  \n",
      " 4   date              178080 non-null  int64  \n",
      " 5   latitude          178080 non-null  float64\n",
      " 6   longitude         178080 non-null  float64\n",
      " 7   zonal winds       178080 non-null  float64\n",
      " 8   meridional winds  178080 non-null  float64\n",
      " 9   humidity          112319 non-null  float64\n",
      " 10  air temp          178080 non-null  float64\n",
      " 11  sea surface temp  178080 non-null  float64\n",
      "dtypes: float64(7), int64(5)\n",
      "memory usage: 16.3 MB\n"
     ]
    }
   ],
   "source": [
    "df_clean.info()"
   ]
  },
  {
   "cell_type": "code",
   "execution_count": 32,
   "metadata": {
    "execution": {
     "iopub.execute_input": "2022-03-31T15:49:03.521028Z",
     "iopub.status.busy": "2022-03-31T15:49:03.520697Z",
     "iopub.status.idle": "2022-03-31T15:49:03.635611Z",
     "shell.execute_reply": "2022-03-31T15:49:03.634610Z",
     "shell.execute_reply.started": "2022-03-31T15:49:03.520997Z"
    }
   },
   "outputs": [
    {
     "data": {
      "text/html": [
       "<div>\n",
       "<style scoped>\n",
       "    .dataframe tbody tr th:only-of-type {\n",
       "        vertical-align: middle;\n",
       "    }\n",
       "\n",
       "    .dataframe tbody tr th {\n",
       "        vertical-align: top;\n",
       "    }\n",
       "\n",
       "    .dataframe thead th {\n",
       "        text-align: right;\n",
       "    }\n",
       "</style>\n",
       "<table border=\"1\" class=\"dataframe\">\n",
       "  <thead>\n",
       "    <tr style=\"text-align: right;\">\n",
       "      <th></th>\n",
       "      <th>observation</th>\n",
       "      <th>year</th>\n",
       "      <th>month</th>\n",
       "      <th>day</th>\n",
       "      <th>date</th>\n",
       "      <th>latitude</th>\n",
       "      <th>longitude</th>\n",
       "      <th>zonal winds</th>\n",
       "      <th>meridional winds</th>\n",
       "      <th>humidity</th>\n",
       "      <th>air temp</th>\n",
       "      <th>sea surface temp</th>\n",
       "    </tr>\n",
       "  </thead>\n",
       "  <tbody>\n",
       "    <tr>\n",
       "      <th>count</th>\n",
       "      <td>178080.000000</td>\n",
       "      <td>178080.000000</td>\n",
       "      <td>178080.000000</td>\n",
       "      <td>178080.000000</td>\n",
       "      <td>178080.000000</td>\n",
       "      <td>178080.000000</td>\n",
       "      <td>178080.000000</td>\n",
       "      <td>178080.000000</td>\n",
       "      <td>178080.000000</td>\n",
       "      <td>112319.000000</td>\n",
       "      <td>178080.000000</td>\n",
       "      <td>178080.000000</td>\n",
       "    </tr>\n",
       "    <tr>\n",
       "      <th>mean</th>\n",
       "      <td>89040.500000</td>\n",
       "      <td>93.302325</td>\n",
       "      <td>6.504869</td>\n",
       "      <td>15.720536</td>\n",
       "      <td>933689.455374</td>\n",
       "      <td>0.473626</td>\n",
       "      <td>-54.025233</td>\n",
       "      <td>-3.572571</td>\n",
       "      <td>0.186212</td>\n",
       "      <td>81.236525</td>\n",
       "      <td>26.887567</td>\n",
       "      <td>27.715309</td>\n",
       "    </tr>\n",
       "    <tr>\n",
       "      <th>std</th>\n",
       "      <td>51407.412306</td>\n",
       "      <td>3.393818</td>\n",
       "      <td>3.459657</td>\n",
       "      <td>8.800487</td>\n",
       "      <td>33900.474320</td>\n",
       "      <td>4.583041</td>\n",
       "      <td>135.363994</td>\n",
       "      <td>3.195025</td>\n",
       "      <td>2.783660</td>\n",
       "      <td>5.313061</td>\n",
       "      <td>1.720908</td>\n",
       "      <td>1.956718</td>\n",
       "    </tr>\n",
       "    <tr>\n",
       "      <th>min</th>\n",
       "      <td>1.000000</td>\n",
       "      <td>80.000000</td>\n",
       "      <td>1.000000</td>\n",
       "      <td>1.000000</td>\n",
       "      <td>800307.000000</td>\n",
       "      <td>-8.810000</td>\n",
       "      <td>-180.000000</td>\n",
       "      <td>-12.400000</td>\n",
       "      <td>-11.600000</td>\n",
       "      <td>45.400000</td>\n",
       "      <td>17.050000</td>\n",
       "      <td>17.350000</td>\n",
       "    </tr>\n",
       "    <tr>\n",
       "      <th>25%</th>\n",
       "      <td>44520.750000</td>\n",
       "      <td>92.000000</td>\n",
       "      <td>4.000000</td>\n",
       "      <td>8.000000</td>\n",
       "      <td>920116.000000</td>\n",
       "      <td>-2.010000</td>\n",
       "      <td>-154.950000</td>\n",
       "      <td>-5.500000</td>\n",
       "      <td>-1.400000</td>\n",
       "      <td>77.700000</td>\n",
       "      <td>26.270000</td>\n",
       "      <td>26.990000</td>\n",
       "    </tr>\n",
       "    <tr>\n",
       "      <th>50%</th>\n",
       "      <td>89040.500000</td>\n",
       "      <td>94.000000</td>\n",
       "      <td>6.000000</td>\n",
       "      <td>16.000000</td>\n",
       "      <td>940601.000000</td>\n",
       "      <td>0.010000</td>\n",
       "      <td>-111.260000</td>\n",
       "      <td>-4.600000</td>\n",
       "      <td>-0.200000</td>\n",
       "      <td>81.200000</td>\n",
       "      <td>27.120000</td>\n",
       "      <td>28.030000</td>\n",
       "    </tr>\n",
       "    <tr>\n",
       "      <th>75%</th>\n",
       "      <td>133560.250000</td>\n",
       "      <td>96.000000</td>\n",
       "      <td>10.000000</td>\n",
       "      <td>23.000000</td>\n",
       "      <td>960617.000000</td>\n",
       "      <td>4.980000</td>\n",
       "      <td>147.010000</td>\n",
       "      <td>-2.000000</td>\n",
       "      <td>1.900000</td>\n",
       "      <td>84.800000</td>\n",
       "      <td>28.080000</td>\n",
       "      <td>29.150000</td>\n",
       "    </tr>\n",
       "    <tr>\n",
       "      <th>max</th>\n",
       "      <td>178080.000000</td>\n",
       "      <td>98.000000</td>\n",
       "      <td>12.000000</td>\n",
       "      <td>31.000000</td>\n",
       "      <td>980623.000000</td>\n",
       "      <td>9.050000</td>\n",
       "      <td>171.080000</td>\n",
       "      <td>14.300000</td>\n",
       "      <td>13.000000</td>\n",
       "      <td>99.900000</td>\n",
       "      <td>31.660000</td>\n",
       "      <td>31.260000</td>\n",
       "    </tr>\n",
       "  </tbody>\n",
       "</table>\n",
       "</div>"
      ],
      "text/plain": [
       "         observation           year          month            day  \\\n",
       "count  178080.000000  178080.000000  178080.000000  178080.000000   \n",
       "mean    89040.500000      93.302325       6.504869      15.720536   \n",
       "std     51407.412306       3.393818       3.459657       8.800487   \n",
       "min         1.000000      80.000000       1.000000       1.000000   \n",
       "25%     44520.750000      92.000000       4.000000       8.000000   \n",
       "50%     89040.500000      94.000000       6.000000      16.000000   \n",
       "75%    133560.250000      96.000000      10.000000      23.000000   \n",
       "max    178080.000000      98.000000      12.000000      31.000000   \n",
       "\n",
       "                date       latitude      longitude    zonal winds  \\\n",
       "count  178080.000000  178080.000000  178080.000000  178080.000000   \n",
       "mean   933689.455374       0.473626     -54.025233      -3.572571   \n",
       "std     33900.474320       4.583041     135.363994       3.195025   \n",
       "min    800307.000000      -8.810000    -180.000000     -12.400000   \n",
       "25%    920116.000000      -2.010000    -154.950000      -5.500000   \n",
       "50%    940601.000000       0.010000    -111.260000      -4.600000   \n",
       "75%    960617.000000       4.980000     147.010000      -2.000000   \n",
       "max    980623.000000       9.050000     171.080000      14.300000   \n",
       "\n",
       "       meridional winds       humidity       air temp  sea surface temp  \n",
       "count     178080.000000  112319.000000  178080.000000     178080.000000  \n",
       "mean           0.186212      81.236525      26.887567         27.715309  \n",
       "std            2.783660       5.313061       1.720908          1.956718  \n",
       "min          -11.600000      45.400000      17.050000         17.350000  \n",
       "25%           -1.400000      77.700000      26.270000         26.990000  \n",
       "50%           -0.200000      81.200000      27.120000         28.030000  \n",
       "75%            1.900000      84.800000      28.080000         29.150000  \n",
       "max           13.000000      99.900000      31.660000         31.260000  "
      ]
     },
     "execution_count": 32,
     "metadata": {},
     "output_type": "execute_result"
    }
   ],
   "source": [
    "df_clean.describe()"
   ]
  },
  {
   "cell_type": "code",
   "execution_count": 33,
   "metadata": {
    "execution": {
     "iopub.execute_input": "2022-03-31T15:49:03.638251Z",
     "iopub.status.busy": "2022-03-31T15:49:03.637743Z",
     "iopub.status.idle": "2022-03-31T15:49:03.756928Z",
     "shell.execute_reply": "2022-03-31T15:49:03.755873Z",
     "shell.execute_reply.started": "2022-03-31T15:49:03.638157Z"
    }
   },
   "outputs": [
    {
     "data": {
      "text/html": [
       "<div>\n",
       "<style scoped>\n",
       "    .dataframe tbody tr th:only-of-type {\n",
       "        vertical-align: middle;\n",
       "    }\n",
       "\n",
       "    .dataframe tbody tr th {\n",
       "        vertical-align: top;\n",
       "    }\n",
       "\n",
       "    .dataframe thead th {\n",
       "        text-align: right;\n",
       "    }\n",
       "</style>\n",
       "<table border=\"1\" class=\"dataframe\">\n",
       "  <thead>\n",
       "    <tr style=\"text-align: right;\">\n",
       "      <th></th>\n",
       "      <th>observation</th>\n",
       "      <th>year</th>\n",
       "      <th>month</th>\n",
       "      <th>day</th>\n",
       "      <th>date</th>\n",
       "      <th>latitude</th>\n",
       "      <th>longitude</th>\n",
       "      <th>zonal winds</th>\n",
       "      <th>meridional winds</th>\n",
       "      <th>humidity</th>\n",
       "      <th>air temp</th>\n",
       "      <th>sea surface temp</th>\n",
       "    </tr>\n",
       "  </thead>\n",
       "  <tbody>\n",
       "    <tr>\n",
       "      <th>count</th>\n",
       "      <td>178080.000000</td>\n",
       "      <td>178080.000000</td>\n",
       "      <td>178080.000000</td>\n",
       "      <td>178080.000000</td>\n",
       "      <td>178080.000000</td>\n",
       "      <td>178080.000000</td>\n",
       "      <td>178080.000000</td>\n",
       "      <td>178080.000000</td>\n",
       "      <td>178080.000000</td>\n",
       "      <td>112319.000000</td>\n",
       "      <td>178080.000000</td>\n",
       "      <td>178080.000000</td>\n",
       "    </tr>\n",
       "    <tr>\n",
       "      <th>mean</th>\n",
       "      <td>89040.500000</td>\n",
       "      <td>93.302325</td>\n",
       "      <td>6.504869</td>\n",
       "      <td>15.720536</td>\n",
       "      <td>933689.455374</td>\n",
       "      <td>0.473626</td>\n",
       "      <td>-54.025233</td>\n",
       "      <td>-3.572571</td>\n",
       "      <td>0.186212</td>\n",
       "      <td>81.236525</td>\n",
       "      <td>26.887567</td>\n",
       "      <td>27.715309</td>\n",
       "    </tr>\n",
       "    <tr>\n",
       "      <th>std</th>\n",
       "      <td>51407.412306</td>\n",
       "      <td>3.393818</td>\n",
       "      <td>3.459657</td>\n",
       "      <td>8.800487</td>\n",
       "      <td>33900.474320</td>\n",
       "      <td>4.583041</td>\n",
       "      <td>135.363994</td>\n",
       "      <td>3.195025</td>\n",
       "      <td>2.783660</td>\n",
       "      <td>5.313061</td>\n",
       "      <td>1.720908</td>\n",
       "      <td>1.956718</td>\n",
       "    </tr>\n",
       "    <tr>\n",
       "      <th>min</th>\n",
       "      <td>1.000000</td>\n",
       "      <td>80.000000</td>\n",
       "      <td>1.000000</td>\n",
       "      <td>1.000000</td>\n",
       "      <td>800307.000000</td>\n",
       "      <td>-8.810000</td>\n",
       "      <td>-180.000000</td>\n",
       "      <td>-12.400000</td>\n",
       "      <td>-11.600000</td>\n",
       "      <td>45.400000</td>\n",
       "      <td>17.050000</td>\n",
       "      <td>17.350000</td>\n",
       "    </tr>\n",
       "    <tr>\n",
       "      <th>25%</th>\n",
       "      <td>44520.750000</td>\n",
       "      <td>92.000000</td>\n",
       "      <td>4.000000</td>\n",
       "      <td>8.000000</td>\n",
       "      <td>920116.000000</td>\n",
       "      <td>-2.010000</td>\n",
       "      <td>-154.950000</td>\n",
       "      <td>-5.500000</td>\n",
       "      <td>-1.400000</td>\n",
       "      <td>77.700000</td>\n",
       "      <td>26.270000</td>\n",
       "      <td>26.990000</td>\n",
       "    </tr>\n",
       "    <tr>\n",
       "      <th>50%</th>\n",
       "      <td>89040.500000</td>\n",
       "      <td>94.000000</td>\n",
       "      <td>6.000000</td>\n",
       "      <td>16.000000</td>\n",
       "      <td>940601.000000</td>\n",
       "      <td>0.010000</td>\n",
       "      <td>-111.260000</td>\n",
       "      <td>-4.600000</td>\n",
       "      <td>-0.200000</td>\n",
       "      <td>81.200000</td>\n",
       "      <td>27.120000</td>\n",
       "      <td>28.030000</td>\n",
       "    </tr>\n",
       "    <tr>\n",
       "      <th>75%</th>\n",
       "      <td>133560.250000</td>\n",
       "      <td>96.000000</td>\n",
       "      <td>10.000000</td>\n",
       "      <td>23.000000</td>\n",
       "      <td>960617.000000</td>\n",
       "      <td>4.980000</td>\n",
       "      <td>147.010000</td>\n",
       "      <td>-2.000000</td>\n",
       "      <td>1.900000</td>\n",
       "      <td>84.800000</td>\n",
       "      <td>28.080000</td>\n",
       "      <td>29.150000</td>\n",
       "    </tr>\n",
       "    <tr>\n",
       "      <th>max</th>\n",
       "      <td>178080.000000</td>\n",
       "      <td>98.000000</td>\n",
       "      <td>12.000000</td>\n",
       "      <td>31.000000</td>\n",
       "      <td>980623.000000</td>\n",
       "      <td>9.050000</td>\n",
       "      <td>171.080000</td>\n",
       "      <td>14.300000</td>\n",
       "      <td>13.000000</td>\n",
       "      <td>99.900000</td>\n",
       "      <td>31.660000</td>\n",
       "      <td>31.260000</td>\n",
       "    </tr>\n",
       "  </tbody>\n",
       "</table>\n",
       "</div>"
      ],
      "text/plain": [
       "         observation           year          month            day  \\\n",
       "count  178080.000000  178080.000000  178080.000000  178080.000000   \n",
       "mean    89040.500000      93.302325       6.504869      15.720536   \n",
       "std     51407.412306       3.393818       3.459657       8.800487   \n",
       "min         1.000000      80.000000       1.000000       1.000000   \n",
       "25%     44520.750000      92.000000       4.000000       8.000000   \n",
       "50%     89040.500000      94.000000       6.000000      16.000000   \n",
       "75%    133560.250000      96.000000      10.000000      23.000000   \n",
       "max    178080.000000      98.000000      12.000000      31.000000   \n",
       "\n",
       "                date       latitude      longitude    zonal winds  \\\n",
       "count  178080.000000  178080.000000  178080.000000  178080.000000   \n",
       "mean   933689.455374       0.473626     -54.025233      -3.572571   \n",
       "std     33900.474320       4.583041     135.363994       3.195025   \n",
       "min    800307.000000      -8.810000    -180.000000     -12.400000   \n",
       "25%    920116.000000      -2.010000    -154.950000      -5.500000   \n",
       "50%    940601.000000       0.010000    -111.260000      -4.600000   \n",
       "75%    960617.000000       4.980000     147.010000      -2.000000   \n",
       "max    980623.000000       9.050000     171.080000      14.300000   \n",
       "\n",
       "       meridional winds       humidity       air temp  sea surface temp  \n",
       "count     178080.000000  112319.000000  178080.000000     178080.000000  \n",
       "mean           0.186212      81.236525      26.887567         27.715309  \n",
       "std            2.783660       5.313061       1.720908          1.956718  \n",
       "min          -11.600000      45.400000      17.050000         17.350000  \n",
       "25%           -1.400000      77.700000      26.270000         26.990000  \n",
       "50%           -0.200000      81.200000      27.120000         28.030000  \n",
       "75%            1.900000      84.800000      28.080000         29.150000  \n",
       "max           13.000000      99.900000      31.660000         31.260000  "
      ]
     },
     "execution_count": 33,
     "metadata": {},
     "output_type": "execute_result"
    }
   ],
   "source": [
    "df.describe()"
   ]
  },
  {
   "cell_type": "code",
   "execution_count": 34,
   "metadata": {
    "execution": {
     "iopub.execute_input": "2022-03-31T15:49:03.758405Z",
     "iopub.status.busy": "2022-03-31T15:49:03.758171Z",
     "iopub.status.idle": "2022-03-31T15:49:03.771347Z",
     "shell.execute_reply": "2022-03-31T15:49:03.770578Z",
     "shell.execute_reply.started": "2022-03-31T15:49:03.758377Z"
    }
   },
   "outputs": [
    {
     "data": {
      "text/plain": [
       "observation             0\n",
       "year                    0\n",
       "month                   0\n",
       "day                     0\n",
       "date                    0\n",
       "latitude                0\n",
       "longitude               0\n",
       "zonal winds             0\n",
       "meridional winds        0\n",
       "humidity            65761\n",
       "air temp                0\n",
       "sea surface temp        0\n",
       "dtype: int64"
      ]
     },
     "execution_count": 34,
     "metadata": {},
     "output_type": "execute_result"
    }
   ],
   "source": [
    "df_clean.isna().sum()"
   ]
  },
  {
   "cell_type": "markdown",
   "metadata": {},
   "source": [
    "Only humidity column is left. This has a lot of missing values. While 0 humidity is theoritically possible. A single water molecule makes it not zero. And considerting thhe buoys placed in the oceans. we cannot change all the 65k rows to 0"
   ]
  },
  {
   "cell_type": "markdown",
   "metadata": {},
   "source": [
    "For now we can make a new dataframe and drop the humidity column. this way we retain most of the data solumns as well."
   ]
  },
  {
   "cell_type": "code",
   "execution_count": 35,
   "metadata": {
    "execution": {
     "iopub.execute_input": "2022-03-31T15:49:03.773825Z",
     "iopub.status.busy": "2022-03-31T15:49:03.772716Z",
     "iopub.status.idle": "2022-03-31T15:49:03.805922Z",
     "shell.execute_reply": "2022-03-31T15:49:03.805020Z",
     "shell.execute_reply.started": "2022-03-31T15:49:03.773763Z"
    }
   },
   "outputs": [],
   "source": [
    "df_drop_humidity = df_clean.dropna()"
   ]
  },
  {
   "cell_type": "code",
   "execution_count": 36,
   "metadata": {
    "execution": {
     "iopub.execute_input": "2022-03-31T15:49:03.807924Z",
     "iopub.status.busy": "2022-03-31T15:49:03.807412Z",
     "iopub.status.idle": "2022-03-31T15:49:03.824231Z",
     "shell.execute_reply": "2022-03-31T15:49:03.823289Z",
     "shell.execute_reply.started": "2022-03-31T15:49:03.807889Z"
    }
   },
   "outputs": [
    {
     "name": "stdout",
     "output_type": "stream",
     "text": [
      "<class 'pandas.core.frame.DataFrame'>\n",
      "Int64Index: 112319 entries, 4059 to 178078\n",
      "Data columns (total 12 columns):\n",
      " #   Column            Non-Null Count   Dtype  \n",
      "---  ------            --------------   -----  \n",
      " 0   observation       112319 non-null  int64  \n",
      " 1   year              112319 non-null  int64  \n",
      " 2   month             112319 non-null  int64  \n",
      " 3   day               112319 non-null  int64  \n",
      " 4   date              112319 non-null  int64  \n",
      " 5   latitude          112319 non-null  float64\n",
      " 6   longitude         112319 non-null  float64\n",
      " 7   zonal winds       112319 non-null  float64\n",
      " 8   meridional winds  112319 non-null  float64\n",
      " 9   humidity          112319 non-null  float64\n",
      " 10  air temp          112319 non-null  float64\n",
      " 11  sea surface temp  112319 non-null  float64\n",
      "dtypes: float64(7), int64(5)\n",
      "memory usage: 11.1 MB\n"
     ]
    }
   ],
   "source": [
    "df_drop_humidity.info()"
   ]
  },
  {
   "cell_type": "markdown",
   "metadata": {},
   "source": [
    "## Data Visualisation"
   ]
  },
  {
   "cell_type": "markdown",
   "metadata": {},
   "source": [
    "Now that the data is clean, let us start exploring the data so we know how they relate and what's actually happening so that we uncover insights"
   ]
  },
  {
   "cell_type": "markdown",
   "metadata": {},
   "source": [
    "To understand the visualisation better, we add a few calculates columns such as Oceans and Hemisphere"
   ]
  },
  {
   "cell_type": "markdown",
   "metadata": {},
   "source": [
    "* - How do the variables relate to each other?\n",
    "* - Which variables have a greater effect on the climate variations?\n",
    "* - Does the amount of movement of the buoy effect the reliability of the data?"
   ]
  },
  {
   "cell_type": "code",
   "execution_count": 37,
   "metadata": {
    "execution": {
     "iopub.execute_input": "2022-03-31T15:49:03.826580Z",
     "iopub.status.busy": "2022-03-31T15:49:03.826027Z",
     "iopub.status.idle": "2022-03-31T15:49:03.856585Z",
     "shell.execute_reply": "2022-03-31T15:49:03.855602Z",
     "shell.execute_reply.started": "2022-03-31T15:49:03.826536Z"
    }
   },
   "outputs": [
    {
     "name": "stderr",
     "output_type": "stream",
     "text": [
      "<ipython-input-37-e1dc20d841f7>:2: SettingWithCopyWarning: \n",
      "A value is trying to be set on a copy of a slice from a DataFrame.\n",
      "Try using .loc[row_indexer,col_indexer] = value instead\n",
      "\n",
      "See the caveats in the documentation: https://pandas.pydata.org/pandas-docs/stable/user_guide/indexing.html#returning-a-view-versus-a-copy\n",
      "  df_drop_humidity['ocean'] = df_drop_humidity['longitude'] < 0.0\n",
      "/Users/bhanukiran/opt/anaconda3/lib/python3.8/site-packages/pandas/core/series.py:4509: SettingWithCopyWarning: \n",
      "A value is trying to be set on a copy of a slice from a DataFrame\n",
      "\n",
      "See the caveats in the documentation: https://pandas.pydata.org/pandas-docs/stable/user_guide/indexing.html#returning-a-view-versus-a-copy\n",
      "  return super().replace(\n",
      "<ipython-input-37-e1dc20d841f7>:5: SettingWithCopyWarning: \n",
      "A value is trying to be set on a copy of a slice from a DataFrame.\n",
      "Try using .loc[row_indexer,col_indexer] = value instead\n",
      "\n",
      "See the caveats in the documentation: https://pandas.pydata.org/pandas-docs/stable/user_guide/indexing.html#returning-a-view-versus-a-copy\n",
      "  df_drop_humidity['hemisphere'] = df_drop_humidity['latitude'] < 0.0\n",
      "/Users/bhanukiran/opt/anaconda3/lib/python3.8/site-packages/pandas/core/series.py:4509: SettingWithCopyWarning: \n",
      "A value is trying to be set on a copy of a slice from a DataFrame\n",
      "\n",
      "See the caveats in the documentation: https://pandas.pydata.org/pandas-docs/stable/user_guide/indexing.html#returning-a-view-versus-a-copy\n",
      "  return super().replace(\n"
     ]
    }
   ],
   "source": [
    "### Oceans\n",
    "df_drop_humidity['ocean'] = df_drop_humidity['longitude'] < 0.0\n",
    "df_drop_humidity['ocean'].replace([True,False],['Pacific','Indian'],inplace= True)\n",
    "### Hemisphere\n",
    "df_drop_humidity['hemisphere'] = df_drop_humidity['latitude'] < 0.0\n",
    "df_drop_humidity['hemisphere'].replace([True,False],['South','North'],inplace=True)"
   ]
  },
  {
   "cell_type": "code",
   "execution_count": 38,
   "metadata": {
    "execution": {
     "iopub.execute_input": "2022-03-31T15:49:03.858601Z",
     "iopub.status.busy": "2022-03-31T15:49:03.858022Z",
     "iopub.status.idle": "2022-03-31T15:49:03.880844Z",
     "shell.execute_reply": "2022-03-31T15:49:03.880138Z",
     "shell.execute_reply.started": "2022-03-31T15:49:03.858553Z"
    }
   },
   "outputs": [
    {
     "data": {
      "text/html": [
       "<div>\n",
       "<style scoped>\n",
       "    .dataframe tbody tr th:only-of-type {\n",
       "        vertical-align: middle;\n",
       "    }\n",
       "\n",
       "    .dataframe tbody tr th {\n",
       "        vertical-align: top;\n",
       "    }\n",
       "\n",
       "    .dataframe thead th {\n",
       "        text-align: right;\n",
       "    }\n",
       "</style>\n",
       "<table border=\"1\" class=\"dataframe\">\n",
       "  <thead>\n",
       "    <tr style=\"text-align: right;\">\n",
       "      <th></th>\n",
       "      <th>observation</th>\n",
       "      <th>year</th>\n",
       "      <th>month</th>\n",
       "      <th>day</th>\n",
       "      <th>date</th>\n",
       "      <th>latitude</th>\n",
       "      <th>longitude</th>\n",
       "      <th>zonal winds</th>\n",
       "      <th>meridional winds</th>\n",
       "      <th>humidity</th>\n",
       "      <th>air temp</th>\n",
       "      <th>sea surface temp</th>\n",
       "      <th>ocean</th>\n",
       "      <th>hemisphere</th>\n",
       "    </tr>\n",
       "  </thead>\n",
       "  <tbody>\n",
       "    <tr>\n",
       "      <th>4059</th>\n",
       "      <td>4060</td>\n",
       "      <td>93</td>\n",
       "      <td>5</td>\n",
       "      <td>9</td>\n",
       "      <td>930509</td>\n",
       "      <td>-0.02</td>\n",
       "      <td>-109.96</td>\n",
       "      <td>-2.1</td>\n",
       "      <td>2.1</td>\n",
       "      <td>81.2</td>\n",
       "      <td>26.80</td>\n",
       "      <td>27.02</td>\n",
       "      <td>Pacific</td>\n",
       "      <td>South</td>\n",
       "    </tr>\n",
       "    <tr>\n",
       "      <th>4060</th>\n",
       "      <td>4061</td>\n",
       "      <td>93</td>\n",
       "      <td>5</td>\n",
       "      <td>10</td>\n",
       "      <td>930510</td>\n",
       "      <td>-0.02</td>\n",
       "      <td>-109.96</td>\n",
       "      <td>-3.4</td>\n",
       "      <td>1.4</td>\n",
       "      <td>84.2</td>\n",
       "      <td>26.95</td>\n",
       "      <td>26.91</td>\n",
       "      <td>Pacific</td>\n",
       "      <td>South</td>\n",
       "    </tr>\n",
       "    <tr>\n",
       "      <th>4061</th>\n",
       "      <td>4062</td>\n",
       "      <td>93</td>\n",
       "      <td>5</td>\n",
       "      <td>11</td>\n",
       "      <td>930511</td>\n",
       "      <td>-0.02</td>\n",
       "      <td>-109.96</td>\n",
       "      <td>-3.8</td>\n",
       "      <td>2.2</td>\n",
       "      <td>84.9</td>\n",
       "      <td>26.98</td>\n",
       "      <td>26.78</td>\n",
       "      <td>Pacific</td>\n",
       "      <td>South</td>\n",
       "    </tr>\n",
       "    <tr>\n",
       "      <th>4062</th>\n",
       "      <td>4063</td>\n",
       "      <td>93</td>\n",
       "      <td>5</td>\n",
       "      <td>12</td>\n",
       "      <td>930512</td>\n",
       "      <td>-0.02</td>\n",
       "      <td>-109.96</td>\n",
       "      <td>-3.0</td>\n",
       "      <td>1.5</td>\n",
       "      <td>86.9</td>\n",
       "      <td>26.93</td>\n",
       "      <td>26.74</td>\n",
       "      <td>Pacific</td>\n",
       "      <td>South</td>\n",
       "    </tr>\n",
       "    <tr>\n",
       "      <th>4063</th>\n",
       "      <td>4064</td>\n",
       "      <td>93</td>\n",
       "      <td>5</td>\n",
       "      <td>13</td>\n",
       "      <td>930513</td>\n",
       "      <td>-0.02</td>\n",
       "      <td>-109.96</td>\n",
       "      <td>-4.5</td>\n",
       "      <td>1.9</td>\n",
       "      <td>87.6</td>\n",
       "      <td>27.01</td>\n",
       "      <td>26.82</td>\n",
       "      <td>Pacific</td>\n",
       "      <td>South</td>\n",
       "    </tr>\n",
       "  </tbody>\n",
       "</table>\n",
       "</div>"
      ],
      "text/plain": [
       "      observation  year  month  day    date  latitude  longitude  zonal winds  \\\n",
       "4059         4060    93      5    9  930509     -0.02    -109.96         -2.1   \n",
       "4060         4061    93      5   10  930510     -0.02    -109.96         -3.4   \n",
       "4061         4062    93      5   11  930511     -0.02    -109.96         -3.8   \n",
       "4062         4063    93      5   12  930512     -0.02    -109.96         -3.0   \n",
       "4063         4064    93      5   13  930513     -0.02    -109.96         -4.5   \n",
       "\n",
       "      meridional winds  humidity  air temp  sea surface temp    ocean  \\\n",
       "4059               2.1      81.2     26.80             27.02  Pacific   \n",
       "4060               1.4      84.2     26.95             26.91  Pacific   \n",
       "4061               2.2      84.9     26.98             26.78  Pacific   \n",
       "4062               1.5      86.9     26.93             26.74  Pacific   \n",
       "4063               1.9      87.6     27.01             26.82  Pacific   \n",
       "\n",
       "     hemisphere  \n",
       "4059      South  \n",
       "4060      South  \n",
       "4061      South  \n",
       "4062      South  \n",
       "4063      South  "
      ]
     },
     "execution_count": 38,
     "metadata": {},
     "output_type": "execute_result"
    }
   ],
   "source": [
    "df_drop_humidity.head()"
   ]
  },
  {
   "cell_type": "markdown",
   "metadata": {},
   "source": [
    "Since we have the buoys, we can check how they are distributed around the world"
   ]
  },
  {
   "cell_type": "code",
   "execution_count": 39,
   "metadata": {
    "execution": {
     "iopub.execute_input": "2022-03-31T15:49:03.882451Z",
     "iopub.status.busy": "2022-03-31T15:49:03.882040Z",
     "iopub.status.idle": "2022-03-31T15:49:10.071185Z",
     "shell.execute_reply": "2022-03-31T15:49:10.070381Z",
     "shell.execute_reply.started": "2022-03-31T15:49:03.882414Z"
    }
   },
   "outputs": [
    {
     "data": {
      "text/plain": [
       "<AxesSubplot:title={'center':'World Distribution of Buoys'}, xlabel='longitude', ylabel='latitude'>"
      ]
     },
     "execution_count": 39,
     "metadata": {},
     "output_type": "execute_result"
    },
    {
     "data": {
      "image/png": "[encoded data removed]",
      "text/plain": [
       "<Figure size 1008x720 with 1 Axes>"
      ]
     },
     "metadata": {
      "needs_background": "light"
     },
     "output_type": "display_data"
    }
   ],
   "source": [
    "fig = plt.figure(figsize = (14,10))\n",
    "plt.title('World Distribution of Buoys')\n",
    "sns.scatterplot(x= 'longitude',y= 'latitude',data=df_drop_humidity,hue='hemisphere')"
   ]
  },
  {
   "cell_type": "markdown",
   "metadata": {},
   "source": [
    "* Longitude >0 is Indian Ocean\n",
    "* Longitude <0 is Pacific Ocean\n",
    "* Indian Ocean has bouys only along certain places. and most of them are in the northern region\n",
    "* Pacific Ocean bouys are spread across and more evenly distributed\n",
    "* Pacific Ocean bouys are more compared to Indian Ocean"
   ]
  },
  {
   "cell_type": "code",
   "execution_count": 40,
   "metadata": {
    "execution": {
     "iopub.execute_input": "2022-03-31T15:49:10.072581Z",
     "iopub.status.busy": "2022-03-31T15:49:10.072333Z",
     "iopub.status.idle": "2022-03-31T15:49:14.740918Z",
     "shell.execute_reply": "2022-03-31T15:49:14.739925Z",
     "shell.execute_reply.started": "2022-03-31T15:49:10.072550Z"
    }
   },
   "outputs": [
    {
     "data": {
      "image/png": "[encoded data removed]",
      "text/plain": [
       "<Figure size 1008x720 with 1 Axes>"
      ]
     },
     "metadata": {
      "needs_background": "light"
     },
     "output_type": "display_data"
    }
   ],
   "source": [
    "fig1 = plt.figure(figsize = (14,10))\n",
    "plt.title('Pacific Ocean')\n",
    "fig1 = sns.scatterplot(x = 'longitude',y = 'latitude',data=\n",
    "                       df_drop_humidity[df_drop_humidity['ocean']=='Pacific'],hue='hemisphere')\n",
    "\n"
   ]
  },
  {
   "cell_type": "code",
   "execution_count": 41,
   "metadata": {
    "execution": {
     "iopub.execute_input": "2022-03-31T15:49:14.742764Z",
     "iopub.status.busy": "2022-03-31T15:49:14.742351Z",
     "iopub.status.idle": "2022-03-31T15:49:16.441877Z",
     "shell.execute_reply": "2022-03-31T15:49:16.440877Z",
     "shell.execute_reply.started": "2022-03-31T15:49:14.742718Z"
    }
   },
   "outputs": [
    {
     "data": {
      "image/png": "[encoded data removed]",
      "text/plain": [
       "<Figure size 1008x720 with 1 Axes>"
      ]
     },
     "metadata": {
      "needs_background": "light"
     },
     "output_type": "display_data"
    }
   ],
   "source": [
    "fig2 = plt.figure(figsize = (14,10))\n",
    "plt.title('Indian Ocean')\n",
    "fig2 = sns.scatterplot(x = 'longitude',y = 'latitude',data=\n",
    "                       df_drop_humidity[df_drop_humidity['ocean']!='Pacific'],hue='hemisphere')"
   ]
  },
  {
   "cell_type": "markdown",
   "metadata": {},
   "source": [
    "Is there any relationship with air temperature and sea surface temperature?"
   ]
  },
  {
   "cell_type": "code",
   "execution_count": 42,
   "metadata": {
    "execution": {
     "iopub.execute_input": "2022-03-31T15:49:16.443507Z",
     "iopub.status.busy": "2022-03-31T15:49:16.443213Z",
     "iopub.status.idle": "2022-03-31T15:49:18.369418Z",
     "shell.execute_reply": "2022-03-31T15:49:18.368463Z",
     "shell.execute_reply.started": "2022-03-31T15:49:16.443451Z"
    }
   },
   "outputs": [
    {
     "data": {
      "text/plain": [
       "<seaborn.axisgrid.JointGrid at 0x7fe33c843a90>"
      ]
     },
     "execution_count": 42,
     "metadata": {},
     "output_type": "execute_result"
    },
    {
     "data": {
      "image/png": "[encoded data removed]",
      "text/plain": [
       "<Figure size 504x504 with 3 Axes>"
      ]
     },
     "metadata": {
      "needs_background": "light"
     },
     "output_type": "display_data"
    }
   ],
   "source": [
    "sns.jointplot(x=\"air temp\", y=\"sea surface temp\", data=df_drop_humidity, height=7)\n"
   ]
  },
  {
   "cell_type": "markdown",
   "metadata": {},
   "source": [
    "Let's check how the variables are correlated"
   ]
  },
  {
   "cell_type": "code",
   "execution_count": 43,
   "metadata": {
    "execution": {
     "iopub.execute_input": "2022-03-31T15:49:18.371237Z",
     "iopub.status.busy": "2022-03-31T15:49:18.370962Z",
     "iopub.status.idle": "2022-03-31T15:49:19.335821Z",
     "shell.execute_reply": "2022-03-31T15:49:19.334715Z",
     "shell.execute_reply.started": "2022-03-31T15:49:18.371198Z"
    }
   },
   "outputs": [
    {
     "data": {
      "image/png": "[encoded data removed]",
      "text/plain": [
       "<Figure size 1152x432 with 2 Axes>"
      ]
     },
     "metadata": {
      "needs_background": "light"
     },
     "output_type": "display_data"
    }
   ],
   "source": [
    "mask = np.triu(np.ones_like(df_drop_humidity.corr()))\n",
    "plt.figure(figsize=(16, 6))\n",
    "sns.heatmap(df_drop_humidity.corr(),annot=True, mask = mask);"
   ]
  },
  {
   "cell_type": "markdown",
   "metadata": {},
   "source": [
    "* We can clearly see that air temperature and sea surface tempreature are highly correlated\n",
    "* air temperature and medionional winds and humidity are negatively correlated, same goes for sea surface temp\n",
    "* from the above statement. as the temperature rises, there are less winds and less humidity, same goes for sea surface temp\n",
    "* add mnore points"
   ]
  },
  {
   "cell_type": "markdown",
   "metadata": {},
   "source": [
    "Data Quality checks.\n",
    "* Missing Values - check\n",
    "* duplicated records\n",
    "*"
   ]
  },
  {
   "cell_type": "code",
   "execution_count": 44,
   "metadata": {
    "execution": {
     "iopub.execute_input": "2022-03-31T15:49:19.337727Z",
     "iopub.status.busy": "2022-03-31T15:49:19.337348Z",
     "iopub.status.idle": "2022-03-31T15:49:19.425746Z",
     "shell.execute_reply": "2022-03-31T15:49:19.424852Z",
     "shell.execute_reply.started": "2022-03-31T15:49:19.337682Z"
    }
   },
   "outputs": [
    {
     "data": {
      "text/html": [
       "<div>\n",
       "<style scoped>\n",
       "    .dataframe tbody tr th:only-of-type {\n",
       "        vertical-align: middle;\n",
       "    }\n",
       "\n",
       "    .dataframe tbody tr th {\n",
       "        vertical-align: top;\n",
       "    }\n",
       "\n",
       "    .dataframe thead th {\n",
       "        text-align: right;\n",
       "    }\n",
       "</style>\n",
       "<table border=\"1\" class=\"dataframe\">\n",
       "  <thead>\n",
       "    <tr style=\"text-align: right;\">\n",
       "      <th></th>\n",
       "      <th>observation</th>\n",
       "      <th>year</th>\n",
       "      <th>month</th>\n",
       "      <th>day</th>\n",
       "      <th>date</th>\n",
       "      <th>latitude</th>\n",
       "      <th>longitude</th>\n",
       "      <th>zonal winds</th>\n",
       "      <th>meridional winds</th>\n",
       "      <th>humidity</th>\n",
       "      <th>air temp</th>\n",
       "      <th>sea surface temp</th>\n",
       "      <th>ocean</th>\n",
       "      <th>hemisphere</th>\n",
       "    </tr>\n",
       "  </thead>\n",
       "  <tbody>\n",
       "  </tbody>\n",
       "</table>\n",
       "</div>"
      ],
      "text/plain": [
       "Empty DataFrame\n",
       "Columns: [observation, year, month, day, date, latitude, longitude, zonal winds, meridional winds, humidity, air temp, sea surface temp, ocean, hemisphere]\n",
       "Index: []"
      ]
     },
     "execution_count": 44,
     "metadata": {},
     "output_type": "execute_result"
    }
   ],
   "source": [
    "df_drop_humidity[df_drop_humidity.duplicated()]"
   ]
  },
  {
   "cell_type": "markdown",
   "metadata": {},
   "source": [
    "It is interesting that there are no duplicated values. As we know that the bouys are consistent. There are no new bouys, it's the same bouys that are collecting data for a period of time. So, let's check for duplicated values w.r.t bouys.\n",
    "\n",
    "As we can notice from the data, there is no bouy ID or any classification to know which bouy is collecting data. Therefore, the data makes sense. its each weather observation.  \n",
    "\n",
    "We did however, get the position of the bouys, does this mean that with LAT and LON we can classify the bouys and get duplicated records?\n"
   ]
  },
  {
   "cell_type": "markdown",
   "metadata": {},
   "source": []
  },
  {
   "cell_type": "code",
   "execution_count": 45,
   "metadata": {
    "execution": {
     "iopub.execute_input": "2022-03-31T15:49:19.427325Z",
     "iopub.status.busy": "2022-03-31T15:49:19.427104Z",
     "iopub.status.idle": "2022-03-31T15:49:19.470877Z",
     "shell.execute_reply": "2022-03-31T15:49:19.470007Z",
     "shell.execute_reply.started": "2022-03-31T15:49:19.427298Z"
    }
   },
   "outputs": [
    {
     "data": {
      "text/html": [
       "<div>\n",
       "<style scoped>\n",
       "    .dataframe tbody tr th:only-of-type {\n",
       "        vertical-align: middle;\n",
       "    }\n",
       "\n",
       "    .dataframe tbody tr th {\n",
       "        vertical-align: top;\n",
       "    }\n",
       "\n",
       "    .dataframe thead th {\n",
       "        text-align: right;\n",
       "    }\n",
       "</style>\n",
       "<table border=\"1\" class=\"dataframe\">\n",
       "  <thead>\n",
       "    <tr style=\"text-align: right;\">\n",
       "      <th></th>\n",
       "      <th>observation</th>\n",
       "      <th>year</th>\n",
       "      <th>month</th>\n",
       "      <th>day</th>\n",
       "      <th>date</th>\n",
       "      <th>latitude</th>\n",
       "      <th>longitude</th>\n",
       "      <th>zonal winds</th>\n",
       "      <th>meridional winds</th>\n",
       "      <th>humidity</th>\n",
       "      <th>air temp</th>\n",
       "      <th>sea surface temp</th>\n",
       "      <th>ocean</th>\n",
       "      <th>hemisphere</th>\n",
       "    </tr>\n",
       "  </thead>\n",
       "  <tbody>\n",
       "    <tr>\n",
       "      <th>4060</th>\n",
       "      <td>4061</td>\n",
       "      <td>93</td>\n",
       "      <td>5</td>\n",
       "      <td>10</td>\n",
       "      <td>930510</td>\n",
       "      <td>-0.02</td>\n",
       "      <td>-109.96</td>\n",
       "      <td>-3.4</td>\n",
       "      <td>1.4</td>\n",
       "      <td>84.2</td>\n",
       "      <td>26.95</td>\n",
       "      <td>26.91</td>\n",
       "      <td>Pacific</td>\n",
       "      <td>South</td>\n",
       "    </tr>\n",
       "    <tr>\n",
       "      <th>4061</th>\n",
       "      <td>4062</td>\n",
       "      <td>93</td>\n",
       "      <td>5</td>\n",
       "      <td>11</td>\n",
       "      <td>930511</td>\n",
       "      <td>-0.02</td>\n",
       "      <td>-109.96</td>\n",
       "      <td>-3.8</td>\n",
       "      <td>2.2</td>\n",
       "      <td>84.9</td>\n",
       "      <td>26.98</td>\n",
       "      <td>26.78</td>\n",
       "      <td>Pacific</td>\n",
       "      <td>South</td>\n",
       "    </tr>\n",
       "    <tr>\n",
       "      <th>4062</th>\n",
       "      <td>4063</td>\n",
       "      <td>93</td>\n",
       "      <td>5</td>\n",
       "      <td>12</td>\n",
       "      <td>930512</td>\n",
       "      <td>-0.02</td>\n",
       "      <td>-109.96</td>\n",
       "      <td>-3.0</td>\n",
       "      <td>1.5</td>\n",
       "      <td>86.9</td>\n",
       "      <td>26.93</td>\n",
       "      <td>26.74</td>\n",
       "      <td>Pacific</td>\n",
       "      <td>South</td>\n",
       "    </tr>\n",
       "    <tr>\n",
       "      <th>4063</th>\n",
       "      <td>4064</td>\n",
       "      <td>93</td>\n",
       "      <td>5</td>\n",
       "      <td>13</td>\n",
       "      <td>930513</td>\n",
       "      <td>-0.02</td>\n",
       "      <td>-109.96</td>\n",
       "      <td>-4.5</td>\n",
       "      <td>1.9</td>\n",
       "      <td>87.6</td>\n",
       "      <td>27.01</td>\n",
       "      <td>26.82</td>\n",
       "      <td>Pacific</td>\n",
       "      <td>South</td>\n",
       "    </tr>\n",
       "    <tr>\n",
       "      <th>4064</th>\n",
       "      <td>4065</td>\n",
       "      <td>93</td>\n",
       "      <td>5</td>\n",
       "      <td>14</td>\n",
       "      <td>930514</td>\n",
       "      <td>-0.02</td>\n",
       "      <td>-109.96</td>\n",
       "      <td>-5.0</td>\n",
       "      <td>1.3</td>\n",
       "      <td>85.6</td>\n",
       "      <td>26.96</td>\n",
       "      <td>26.68</td>\n",
       "      <td>Pacific</td>\n",
       "      <td>South</td>\n",
       "    </tr>\n",
       "    <tr>\n",
       "      <th>...</th>\n",
       "      <td>...</td>\n",
       "      <td>...</td>\n",
       "      <td>...</td>\n",
       "      <td>...</td>\n",
       "      <td>...</td>\n",
       "      <td>...</td>\n",
       "      <td>...</td>\n",
       "      <td>...</td>\n",
       "      <td>...</td>\n",
       "      <td>...</td>\n",
       "      <td>...</td>\n",
       "      <td>...</td>\n",
       "      <td>...</td>\n",
       "      <td>...</td>\n",
       "    </tr>\n",
       "    <tr>\n",
       "      <th>178074</th>\n",
       "      <td>178075</td>\n",
       "      <td>98</td>\n",
       "      <td>6</td>\n",
       "      <td>10</td>\n",
       "      <td>980610</td>\n",
       "      <td>8.95</td>\n",
       "      <td>-140.33</td>\n",
       "      <td>-6.8</td>\n",
       "      <td>-5.3</td>\n",
       "      <td>81.3</td>\n",
       "      <td>27.52</td>\n",
       "      <td>28.17</td>\n",
       "      <td>Pacific</td>\n",
       "      <td>North</td>\n",
       "    </tr>\n",
       "    <tr>\n",
       "      <th>178075</th>\n",
       "      <td>178076</td>\n",
       "      <td>98</td>\n",
       "      <td>6</td>\n",
       "      <td>11</td>\n",
       "      <td>980611</td>\n",
       "      <td>8.96</td>\n",
       "      <td>-140.33</td>\n",
       "      <td>-5.1</td>\n",
       "      <td>-0.4</td>\n",
       "      <td>94.1</td>\n",
       "      <td>26.04</td>\n",
       "      <td>28.14</td>\n",
       "      <td>Pacific</td>\n",
       "      <td>North</td>\n",
       "    </tr>\n",
       "    <tr>\n",
       "      <th>178076</th>\n",
       "      <td>178077</td>\n",
       "      <td>98</td>\n",
       "      <td>6</td>\n",
       "      <td>12</td>\n",
       "      <td>980612</td>\n",
       "      <td>8.96</td>\n",
       "      <td>-140.32</td>\n",
       "      <td>-4.3</td>\n",
       "      <td>-3.3</td>\n",
       "      <td>93.2</td>\n",
       "      <td>25.80</td>\n",
       "      <td>27.87</td>\n",
       "      <td>Pacific</td>\n",
       "      <td>North</td>\n",
       "    </tr>\n",
       "    <tr>\n",
       "      <th>178077</th>\n",
       "      <td>178078</td>\n",
       "      <td>98</td>\n",
       "      <td>6</td>\n",
       "      <td>13</td>\n",
       "      <td>980613</td>\n",
       "      <td>8.95</td>\n",
       "      <td>-140.34</td>\n",
       "      <td>-6.1</td>\n",
       "      <td>-4.8</td>\n",
       "      <td>81.3</td>\n",
       "      <td>27.17</td>\n",
       "      <td>27.93</td>\n",
       "      <td>Pacific</td>\n",
       "      <td>North</td>\n",
       "    </tr>\n",
       "    <tr>\n",
       "      <th>178078</th>\n",
       "      <td>178079</td>\n",
       "      <td>98</td>\n",
       "      <td>6</td>\n",
       "      <td>14</td>\n",
       "      <td>980614</td>\n",
       "      <td>8.96</td>\n",
       "      <td>-140.33</td>\n",
       "      <td>-4.9</td>\n",
       "      <td>-2.3</td>\n",
       "      <td>76.2</td>\n",
       "      <td>27.36</td>\n",
       "      <td>28.03</td>\n",
       "      <td>Pacific</td>\n",
       "      <td>North</td>\n",
       "    </tr>\n",
       "  </tbody>\n",
       "</table>\n",
       "<p>106531 rows × 14 columns</p>\n",
       "</div>"
      ],
      "text/plain": [
       "        observation  year  month  day    date  latitude  longitude  \\\n",
       "4060           4061    93      5   10  930510     -0.02    -109.96   \n",
       "4061           4062    93      5   11  930511     -0.02    -109.96   \n",
       "4062           4063    93      5   12  930512     -0.02    -109.96   \n",
       "4063           4064    93      5   13  930513     -0.02    -109.96   \n",
       "4064           4065    93      5   14  930514     -0.02    -109.96   \n",
       "...             ...   ...    ...  ...     ...       ...        ...   \n",
       "178074       178075    98      6   10  980610      8.95    -140.33   \n",
       "178075       178076    98      6   11  980611      8.96    -140.33   \n",
       "178076       178077    98      6   12  980612      8.96    -140.32   \n",
       "178077       178078    98      6   13  980613      8.95    -140.34   \n",
       "178078       178079    98      6   14  980614      8.96    -140.33   \n",
       "\n",
       "        zonal winds  meridional winds  humidity  air temp  sea surface temp  \\\n",
       "4060           -3.4               1.4      84.2     26.95             26.91   \n",
       "4061           -3.8               2.2      84.9     26.98             26.78   \n",
       "4062           -3.0               1.5      86.9     26.93             26.74   \n",
       "4063           -4.5               1.9      87.6     27.01             26.82   \n",
       "4064           -5.0               1.3      85.6     26.96             26.68   \n",
       "...             ...               ...       ...       ...               ...   \n",
       "178074         -6.8              -5.3      81.3     27.52             28.17   \n",
       "178075         -5.1              -0.4      94.1     26.04             28.14   \n",
       "178076         -4.3              -3.3      93.2     25.80             27.87   \n",
       "178077         -6.1              -4.8      81.3     27.17             27.93   \n",
       "178078         -4.9              -2.3      76.2     27.36             28.03   \n",
       "\n",
       "          ocean hemisphere  \n",
       "4060    Pacific      South  \n",
       "4061    Pacific      South  \n",
       "4062    Pacific      South  \n",
       "4063    Pacific      South  \n",
       "4064    Pacific      South  \n",
       "...         ...        ...  \n",
       "178074  Pacific      North  \n",
       "178075  Pacific      North  \n",
       "178076  Pacific      North  \n",
       "178077  Pacific      North  \n",
       "178078  Pacific      North  \n",
       "\n",
       "[106531 rows x 14 columns]"
      ]
     },
     "execution_count": 45,
     "metadata": {},
     "output_type": "execute_result"
    }
   ],
   "source": [
    "df_drop_humidity[df_drop_humidity.duplicated(['latitude', 'longitude'])]"
   ]
  },
  {
   "cell_type": "markdown",
   "metadata": {},
   "source": [
    "Of course, we see a lot of duplicated values. But we got to keep in mind the year, month, and day columns. As we can clearly see from the above table the year keeps changing. The month might be the same, but with every row the day and date changes.  \n",
    "\n",
    "What does this signify?  \n",
    "* The bouys move over time, not in an instant. throught out the years the bouys might stay in the same place and they might move a little. but the data they collect is for over a period of time, and this makes sense. It checks out\n",
    "* do we need to worry about duplicate values? NO"
   ]
  },
  {
   "cell_type": "markdown",
   "metadata": {},
   "source": [
    "* Another interesting insight is, The date column in redundant. \n",
    "* we alreay have year, month and day column. Therefore we can drop the date column"
   ]
  },
  {
   "cell_type": "code",
   "execution_count": 46,
   "metadata": {
    "execution": {
     "iopub.execute_input": "2022-03-31T15:49:19.472524Z",
     "iopub.status.busy": "2022-03-31T15:49:19.472231Z",
     "iopub.status.idle": "2022-03-31T15:49:19.480186Z",
     "shell.execute_reply": "2022-03-31T15:49:19.479216Z",
     "shell.execute_reply.started": "2022-03-31T15:49:19.472463Z"
    }
   },
   "outputs": [
    {
     "data": {
      "text/plain": [
       "Index(['observation', 'year', 'month', 'day', 'date', 'latitude', 'longitude',\n",
       "       'zonal winds', 'meridional winds', 'humidity', 'air temp',\n",
       "       'sea surface temp', 'ocean', 'hemisphere'],\n",
       "      dtype='object')"
      ]
     },
     "execution_count": 46,
     "metadata": {},
     "output_type": "execute_result"
    }
   ],
   "source": [
    "df_drop_humidity.columns"
   ]
  },
  {
   "cell_type": "code",
   "execution_count": 47,
   "metadata": {
    "execution": {
     "iopub.execute_input": "2022-03-31T15:49:19.481731Z",
     "iopub.status.busy": "2022-03-31T15:49:19.481449Z",
     "iopub.status.idle": "2022-03-31T15:49:19.494428Z",
     "shell.execute_reply": "2022-03-31T15:49:19.493545Z",
     "shell.execute_reply.started": "2022-03-31T15:49:19.481701Z"
    }
   },
   "outputs": [],
   "source": [
    "clean_df = df_drop_humidity[['year', 'month', 'day', 'latitude', 'longitude',\n",
    "       'zonal winds', 'meridional winds', 'humidity', 'air temp',\n",
    "       'sea surface temp']]\n",
    "# 'ocean', 'hemisphere']]"
   ]
  },
  {
   "cell_type": "code",
   "execution_count": 48,
   "metadata": {
    "execution": {
     "iopub.execute_input": "2022-03-31T15:49:19.496205Z",
     "iopub.status.busy": "2022-03-31T15:49:19.495832Z",
     "iopub.status.idle": "2022-03-31T15:49:19.525571Z",
     "shell.execute_reply": "2022-03-31T15:49:19.524833Z",
     "shell.execute_reply.started": "2022-03-31T15:49:19.496165Z"
    }
   },
   "outputs": [
    {
     "data": {
      "text/html": [
       "<div>\n",
       "<style scoped>\n",
       "    .dataframe tbody tr th:only-of-type {\n",
       "        vertical-align: middle;\n",
       "    }\n",
       "\n",
       "    .dataframe tbody tr th {\n",
       "        vertical-align: top;\n",
       "    }\n",
       "\n",
       "    .dataframe thead th {\n",
       "        text-align: right;\n",
       "    }\n",
       "</style>\n",
       "<table border=\"1\" class=\"dataframe\">\n",
       "  <thead>\n",
       "    <tr style=\"text-align: right;\">\n",
       "      <th></th>\n",
       "      <th>year</th>\n",
       "      <th>month</th>\n",
       "      <th>day</th>\n",
       "      <th>latitude</th>\n",
       "      <th>longitude</th>\n",
       "      <th>zonal winds</th>\n",
       "      <th>meridional winds</th>\n",
       "      <th>humidity</th>\n",
       "      <th>air temp</th>\n",
       "      <th>sea surface temp</th>\n",
       "    </tr>\n",
       "  </thead>\n",
       "  <tbody>\n",
       "    <tr>\n",
       "      <th>4059</th>\n",
       "      <td>93</td>\n",
       "      <td>5</td>\n",
       "      <td>9</td>\n",
       "      <td>-0.02</td>\n",
       "      <td>-109.96</td>\n",
       "      <td>-2.1</td>\n",
       "      <td>2.1</td>\n",
       "      <td>81.2</td>\n",
       "      <td>26.80</td>\n",
       "      <td>27.02</td>\n",
       "    </tr>\n",
       "    <tr>\n",
       "      <th>4060</th>\n",
       "      <td>93</td>\n",
       "      <td>5</td>\n",
       "      <td>10</td>\n",
       "      <td>-0.02</td>\n",
       "      <td>-109.96</td>\n",
       "      <td>-3.4</td>\n",
       "      <td>1.4</td>\n",
       "      <td>84.2</td>\n",
       "      <td>26.95</td>\n",
       "      <td>26.91</td>\n",
       "    </tr>\n",
       "    <tr>\n",
       "      <th>4061</th>\n",
       "      <td>93</td>\n",
       "      <td>5</td>\n",
       "      <td>11</td>\n",
       "      <td>-0.02</td>\n",
       "      <td>-109.96</td>\n",
       "      <td>-3.8</td>\n",
       "      <td>2.2</td>\n",
       "      <td>84.9</td>\n",
       "      <td>26.98</td>\n",
       "      <td>26.78</td>\n",
       "    </tr>\n",
       "    <tr>\n",
       "      <th>4062</th>\n",
       "      <td>93</td>\n",
       "      <td>5</td>\n",
       "      <td>12</td>\n",
       "      <td>-0.02</td>\n",
       "      <td>-109.96</td>\n",
       "      <td>-3.0</td>\n",
       "      <td>1.5</td>\n",
       "      <td>86.9</td>\n",
       "      <td>26.93</td>\n",
       "      <td>26.74</td>\n",
       "    </tr>\n",
       "    <tr>\n",
       "      <th>4063</th>\n",
       "      <td>93</td>\n",
       "      <td>5</td>\n",
       "      <td>13</td>\n",
       "      <td>-0.02</td>\n",
       "      <td>-109.96</td>\n",
       "      <td>-4.5</td>\n",
       "      <td>1.9</td>\n",
       "      <td>87.6</td>\n",
       "      <td>27.01</td>\n",
       "      <td>26.82</td>\n",
       "    </tr>\n",
       "  </tbody>\n",
       "</table>\n",
       "</div>"
      ],
      "text/plain": [
       "      year  month  day  latitude  longitude  zonal winds  meridional winds  \\\n",
       "4059    93      5    9     -0.02    -109.96         -2.1               2.1   \n",
       "4060    93      5   10     -0.02    -109.96         -3.4               1.4   \n",
       "4061    93      5   11     -0.02    -109.96         -3.8               2.2   \n",
       "4062    93      5   12     -0.02    -109.96         -3.0               1.5   \n",
       "4063    93      5   13     -0.02    -109.96         -4.5               1.9   \n",
       "\n",
       "      humidity  air temp  sea surface temp  \n",
       "4059      81.2     26.80             27.02  \n",
       "4060      84.2     26.95             26.91  \n",
       "4061      84.9     26.98             26.78  \n",
       "4062      86.9     26.93             26.74  \n",
       "4063      87.6     27.01             26.82  "
      ]
     },
     "execution_count": 48,
     "metadata": {},
     "output_type": "execute_result"
    }
   ],
   "source": [
    "clean_df.head()"
   ]
  },
  {
   "cell_type": "markdown",
   "metadata": {},
   "source": [
    "* Rotation of earth to temperature\n",
    "* lat and lon in the changing weather\n",
    "* winds w.r.t temp\n",
    "* temp is main role in ocean \n",
    "* temp proportionals to humidity ?\n",
    "* relation with and every column "
   ]
  },
  {
   "cell_type": "markdown",
   "metadata": {},
   "source": [
    "# TODO: PCA or CLUSTERING as part of EDA\n"
   ]
  },
  {
   "cell_type": "markdown",
   "metadata": {},
   "source": [
    "Let's remove observation, ocean and hemisphere columns we created so we can reduce the columns using PCA and then perform a clustering analysis"
   ]
  },
  {
   "cell_type": "code",
   "execution_count": 49,
   "metadata": {
    "execution": {
     "iopub.execute_input": "2022-03-31T15:49:19.527212Z",
     "iopub.status.busy": "2022-03-31T15:49:19.526542Z",
     "iopub.status.idle": "2022-03-31T15:49:19.643708Z",
     "shell.execute_reply": "2022-03-31T15:49:19.642497Z",
     "shell.execute_reply.started": "2022-03-31T15:49:19.527151Z"
    }
   },
   "outputs": [],
   "source": [
    "import scipy.cluster.hierarchy as shc\n",
    "from sklearn.cluster import AgglomerativeClustering\n",
    "from sklearn.preprocessing import StandardScaler\n",
    "from scipy.cluster.hierarchy import dendrogram\n",
    "from sklearn.decomposition import PCA"
   ]
  },
  {
   "cell_type": "code",
   "execution_count": 50,
   "metadata": {
    "execution": {
     "iopub.execute_input": "2022-03-31T15:49:19.645524Z",
     "iopub.status.busy": "2022-03-31T15:49:19.645250Z",
     "iopub.status.idle": "2022-03-31T15:49:19.689508Z",
     "shell.execute_reply": "2022-03-31T15:49:19.688401Z",
     "shell.execute_reply.started": "2022-03-31T15:49:19.645463Z"
    }
   },
   "outputs": [],
   "source": [
    "sc = StandardScaler()\n",
    "df_scaled = sc.fit_transform(clean_df)"
   ]
  },
  {
   "cell_type": "code",
   "execution_count": 51,
   "metadata": {
    "execution": {
     "iopub.execute_input": "2022-03-31T15:49:19.691174Z",
     "iopub.status.busy": "2022-03-31T15:49:19.690870Z"
    }
   },
   "outputs": [
    {
     "ename": "KeyboardInterrupt",
     "evalue": "",
     "output_type": "error",
     "traceback": [
      "\u001b[0;31m---------------------------------------------------------------------------\u001b[0m",
      "\u001b[0;31mKeyboardInterrupt\u001b[0m                         Traceback (most recent call last)",
      "\u001b[0;32m<ipython-input-51-3e65b8a383c0>\u001b[0m in \u001b[0;36m<module>\u001b[0;34m\u001b[0m\n\u001b[1;32m      1\u001b[0m \u001b[0mplt\u001b[0m\u001b[0;34m.\u001b[0m\u001b[0mfigure\u001b[0m\u001b[0;34m(\u001b[0m\u001b[0mfigsize\u001b[0m \u001b[0;34m=\u001b[0m\u001b[0;34m(\u001b[0m\u001b[0;36m20\u001b[0m\u001b[0;34m,\u001b[0m \u001b[0;36m10\u001b[0m\u001b[0;34m)\u001b[0m\u001b[0;34m)\u001b[0m\u001b[0;34m\u001b[0m\u001b[0;34m\u001b[0m\u001b[0m\n\u001b[1;32m      2\u001b[0m \u001b[0mplt\u001b[0m\u001b[0;34m.\u001b[0m\u001b[0mtitle\u001b[0m\u001b[0;34m(\u001b[0m\u001b[0;34m'Hierarchical Dendrogram'\u001b[0m\u001b[0;34m)\u001b[0m\u001b[0;34m\u001b[0m\u001b[0;34m\u001b[0m\u001b[0m\n\u001b[0;32m----> 3\u001b[0;31m \u001b[0mDendrogram\u001b[0m \u001b[0;34m=\u001b[0m \u001b[0mshc\u001b[0m\u001b[0;34m.\u001b[0m\u001b[0mdendrogram\u001b[0m\u001b[0;34m(\u001b[0m\u001b[0;34m(\u001b[0m\u001b[0mshc\u001b[0m\u001b[0;34m.\u001b[0m\u001b[0mlinkage\u001b[0m\u001b[0;34m(\u001b[0m\u001b[0mdf_scaled\u001b[0m\u001b[0;34m,\u001b[0m \u001b[0mmethod\u001b[0m \u001b[0;34m=\u001b[0m\u001b[0;34m'complete'\u001b[0m\u001b[0;34m)\u001b[0m\u001b[0;34m)\u001b[0m\u001b[0;34m)\u001b[0m\u001b[0;34m\u001b[0m\u001b[0;34m\u001b[0m\u001b[0m\n\u001b[0m",
      "\u001b[0;32m~/opt/anaconda3/lib/python3.8/site-packages/scipy/cluster/hierarchy.py\u001b[0m in \u001b[0;36mlinkage\u001b[0;34m(y, method, metric, optimal_ordering)\u001b[0m\n\u001b[1;32m   1062\u001b[0m         \u001b[0;32mraise\u001b[0m \u001b[0mValueError\u001b[0m\u001b[0;34m(\u001b[0m\u001b[0;34m\"`y` must be 1 or 2 dimensional.\"\u001b[0m\u001b[0;34m)\u001b[0m\u001b[0;34m\u001b[0m\u001b[0;34m\u001b[0m\u001b[0m\n\u001b[1;32m   1063\u001b[0m \u001b[0;34m\u001b[0m\u001b[0m\n\u001b[0;32m-> 1064\u001b[0;31m     \u001b[0;32mif\u001b[0m \u001b[0;32mnot\u001b[0m \u001b[0mnp\u001b[0m\u001b[0;34m.\u001b[0m\u001b[0mall\u001b[0m\u001b[0;34m(\u001b[0m\u001b[0mnp\u001b[0m\u001b[0;34m.\u001b[0m\u001b[0misfinite\u001b[0m\u001b[0;34m(\u001b[0m\u001b[0my\u001b[0m\u001b[0;34m)\u001b[0m\u001b[0;34m)\u001b[0m\u001b[0;34m:\u001b[0m\u001b[0;34m\u001b[0m\u001b[0;34m\u001b[0m\u001b[0m\n\u001b[0m\u001b[1;32m   1065\u001b[0m         raise ValueError(\"The condensed distance matrix must contain only \"\n\u001b[1;32m   1066\u001b[0m                          \"finite values.\")\n",
      "\u001b[0;31mKeyboardInterrupt\u001b[0m: "
     ]
    },
    {
     "data": {
      "image/png": "[encoded data removed]",
      "text/plain": [
       "<Figure size 1440x720 with 1 Axes>"
      ]
     },
     "metadata": {
      "needs_background": "light"
     },
     "output_type": "display_data"
    }
   ],
   "source": [
    "plt.figure(figsize =(20, 10))\n",
    "plt.title('Hierarchical Dendrogram')\n",
    "Dendrogram = shc.dendrogram((shc.linkage(df_scaled, method ='complete')))"
   ]
  },
  {
   "cell_type": "code",
   "execution_count": null,
   "metadata": {},
   "outputs": [],
   "source": [
    "pca = PCA(n_components = 2)\n",
    "X_principal = pca.fit_transform(df_scaled)\n",
    "X_principal = pd.DataFrame(X_principal)\n",
    "X_principal.columns = ['P1', 'P2']"
   ]
  },
  {
   "cell_type": "code",
   "execution_count": null,
   "metadata": {},
   "outputs": [],
   "source": [
    "agg_cluster = AgglomerativeClustering(n_clusters = 2, affinity = 'euclidean', linkage = 'complete')\n",
    "plt.figure(figsize =(6, 6))\n",
    "plt.scatter(X_principal['P1'], X_principal['P2'], \n",
    "           c = agg_cluster.fit_predict(X_principal), cmap ='rainbow')\n",
    "plt.show()\n"
   ]
  },
  {
   "cell_type": "markdown",
   "metadata": {},
   "source": [
    "## Predicting weather variables using regression"
   ]
  },
  {
   "cell_type": "markdown",
   "metadata": {},
   "source": [
    "### Using Decision Tree Regression"
   ]
  },
  {
   "cell_type": "markdown",
   "metadata": {},
   "source": [
    "We can drop the variables such as observations. Day, Date, Year and month could give us an idea about how the weather is throughout the year"
   ]
  },
  {
   "cell_type": "code",
   "execution_count": null,
   "metadata": {},
   "outputs": [],
   "source": [
    "df_random_for = df_drop_humidity"
   ]
  },
  {
   "cell_type": "code",
   "execution_count": null,
   "metadata": {},
   "outputs": [],
   "source": [
    "df_random_for.head()"
   ]
  },
  {
   "cell_type": "code",
   "execution_count": null,
   "metadata": {},
   "outputs": [],
   "source": [
    "# dataframe for pyspark\n",
    "\n",
    "data_spark = df_random_for\n",
    "data_spark.head()"
   ]
  },
  {
   "cell_type": "code",
   "execution_count": null,
   "metadata": {},
   "outputs": [],
   "source": [
    "data_spark = data_spark[['observation', 'year', 'month', 'day', 'date', 'latitude', 'longitude',\n",
    "       'zonal winds', 'meridional winds', 'humidity', 'air temp',\n",
    "       'sea surface temp']]"
   ]
  },
  {
   "cell_type": "code",
   "execution_count": null,
   "metadata": {},
   "outputs": [],
   "source": [
    "data_spark.head()"
   ]
  },
  {
   "cell_type": "code",
   "execution_count": null,
   "metadata": {},
   "outputs": [],
   "source": [
    "df_random_for.info()"
   ]
  },
  {
   "cell_type": "code",
   "execution_count": null,
   "metadata": {},
   "outputs": [],
   "source": [
    "df_random_for.ocean[df_random_for.ocean == 'Pacific'] = 1\n",
    "df_random_for.ocean[df_random_for.ocean == 'Indian'] = 0"
   ]
  },
  {
   "cell_type": "code",
   "execution_count": null,
   "metadata": {},
   "outputs": [],
   "source": [
    "df_random_for.hemisphere[df_random_for.hemisphere == 'South'] = 1\n",
    "df_random_for.hemisphere[df_random_for.hemisphere == 'North'] = 0"
   ]
  },
  {
   "cell_type": "code",
   "execution_count": null,
   "metadata": {},
   "outputs": [],
   "source": [
    "df_random_for.head()"
   ]
  },
  {
   "cell_type": "code",
   "execution_count": null,
   "metadata": {},
   "outputs": [],
   "source": [
    "df_random_for = df_random_for[['observation', 'year', 'month', 'day', 'date', 'latitude', 'longitude',\n",
    "       'zonal winds', 'meridional winds', 'humidity', 'air temp',\n",
    "       'sea surface temp']]"
   ]
  },
  {
   "cell_type": "code",
   "execution_count": null,
   "metadata": {},
   "outputs": [],
   "source": [
    "df_random_for.head()"
   ]
  },
  {
   "cell_type": "markdown",
   "metadata": {},
   "source": [
    "### Writing functions so that we can predict each weather variable by calling the function"
   ]
  },
  {
   "cell_type": "markdown",
   "metadata": {},
   "source": [
    "The Aim here is based on research question 1, i.e. can we predict weather throughout the world?\n",
    "\n",
    "One way to answer this is to predict a target variable, or generate a column with a target variable, that classifies as good weather or bad variable, or to weight each feature to to generate the corresponding weather overall weather. The weighted number gives us an Idea of how the weather is in the current location.  \n",
    "\n",
    "The most Ideal way is to use a clustering algorithm as this is a unsupervised problem(no target).  \n",
    "\n",
    "To get a better idea of the weather, I shall take each weather observation as a target variable and predict it using the remaining features. "
   ]
  },
  {
   "cell_type": "code",
   "execution_count": null,
   "metadata": {},
   "outputs": [],
   "source": [
    "def DTML(data_X, data_y):\n",
    "    \n",
    "    \"\"\"\n",
    "    The data here is passed because we use each weather attribute as the target variable each time\n",
    "    \"\"\"\n",
    "    # DEFINING X AND Y\n",
    "    X = data_X\n",
    "    y_col = data_y\n",
    "    # TRAIN TEST SPLIT OF THE DATA\n",
    "    from sklearn.model_selection import train_test_split\n",
    "    \n",
    "    X_train, X_test, y_train, y_test = train_test_split(X, y_col,test_size=0.3)\n",
    "    # CREATING A DT MODEL\n",
    "    from sklearn.tree import DecisionTreeRegressor\n",
    "    \n",
    "    from sklearn.pipeline import Pipeline\n",
    "\n",
    "    pipe = Pipeline([('tree', DecisionTreeRegressor())], verbose=3)\n",
    "    pipe.set_params(tree__random_state=42).fit(X_train, y_train)\n",
    "\n",
    "    #dt_reg = DecisionTreeRegressor(random_state = 42)\n",
    "    #dt_reg.fit(X_train, y_train)\n",
    "    y_hat = pipe.predict(X_test)\n",
    "    # MODEL EVALUATION\n",
    "    import sklearn.metrics\n",
    "\n",
    "    r2_score = sklearn.metrics.r2_score(y_test, y_hat)\n",
    "    mae = sklearn.metrics.mean_absolute_error(y_test, y_hat)\n",
    "    mse = sklearn.metrics.mean_squared_error(y_test, y_hat)\n",
    "    print(\"Regression Report:\")\n",
    "    print('r2_score: {0}'.format(r2_score))\n",
    "    print('MAE: {0}'.format(mae))\n",
    "    print('MSE: {0}'.format(mse))\n",
    "    print(\"Actual vs Predicted\")\n",
    "    ac_pr = pd.DataFrame(columns=['Actual','Predicted'])\n",
    "    ac_pr['Actual'] = y_test\n",
    "    ac_pr['Predicted'] = y_hat\n",
    "    return ac_pr\n",
    "    \n",
    "    \n",
    "    "
   ]
  },
  {
   "cell_type": "code",
   "execution_count": null,
   "metadata": {},
   "outputs": [],
   "source": [
    "DTML(df_random_for, df_random_for['sea surface temp'])"
   ]
  },
  {
   "cell_type": "code",
   "execution_count": null,
   "metadata": {},
   "outputs": [],
   "source": [
    "## Regression models with pyspark"
   ]
  },
  {
   "cell_type": "code",
   "execution_count": null,
   "metadata": {},
   "outputs": [],
   "source": [
    "from pyspark.ml import Pipeline\n",
    "from pyspark.ml.regression import DecisionTreeRegressor\n",
    "from pyspark.ml.feature import VectorIndexer\n",
    "from pyspark.ml.feature import StringIndexer\n",
    "from pyspark.ml.evaluation import RegressionEvaluator\n",
    "from pyspark.mllib.util import MLUtils\n",
    "from pyspark.sql import Row\n",
    "from pyspark.sql import SparkSession\n",
    "from pyspark.ml.linalg import Vectors"
   ]
  },
  {
   "cell_type": "code",
   "execution_count": null,
   "metadata": {},
   "outputs": [],
   "source": [
    "\n",
    "\n",
    "spark = SparkSession.builder.master(\"local\").appName(\"DDA\").getOrCreate()\n",
    "spark_df = spark.createDataFrame(data_spark)\n",
    "spark_df.printSchema()\n",
    "spark_df.show()\n",
    "spark_df.columns\n",
    "spark_df.describe().show()\n"
   ]
  },
  {
   "cell_type": "code",
   "execution_count": null,
   "metadata": {},
   "outputs": [],
   "source": [
    "def transformData(data):\n",
    "    return data.rdd.map(lambda r: [Vectors.dense(r[:-1]),r[-1]]).toDF(['features','label'])"
   ]
  },
  {
   "cell_type": "code",
   "execution_count": null,
   "metadata": {},
   "outputs": [],
   "source": [
    "def SparkDT(data):\n",
    "    \n",
    "    # dense vector\n",
    "    transformed = transformData(spark_df)\n",
    "    transformed.show(5)\n",
    "    \n",
    "    # Dealing with categorical variables\n",
    "    # Automatically identify categorical features, and index them.\n",
    "    # We specify maxCategories so features with > 4\n",
    "    # distinct values are treated as continuous.\n",
    "    featureIndexer = VectorIndexer(inputCol=\"features\", \n",
    "                               outputCol=\"indexedFeatures\",\n",
    "                               maxCategories=4).fit(transformed)\n",
    "\n",
    "    data = featureIndexer.transform(transformed)\n",
    "    data.show()\n",
    "    \n",
    "    \n",
    "    # VIEWING THE TRANSFORMED DATA\n",
    "    \n",
    "    data.show()\n",
    "    \n",
    "    # TRAIN TEST SPLITTING THE DATA\n",
    "    (trainingData, testData) = data.randomSplit([07.,0.3])\n",
    "    \n",
    "    # VIEWING THE TRAINING AND THE TEST DATA\n",
    "    trainingData.show(5)\n",
    "    testData.show(5)\n",
    "    \n",
    "    # FITING THE DECISION TREE MODEL\n",
    "    import time\n",
    "    start_time = time.time()\n",
    "\n",
    "\n",
    "    \n",
    "    dt = DecisionTreeRegressor(featuresCol = \"indexedFeatures\")\n",
    "    \n",
    "    # CREATING THE PIPELINE ARCHITECTURE\n",
    "    \n",
    "    pipeline = Pipeline(stages = [featureIndexer, dt])\n",
    "\n",
    "    model = pipeline.fit(trainingData)\n",
    "    \n",
    "    # MAKING PREDICTIONS\n",
    "    predictions = model.transform(testData)\n",
    "    \n",
    "    # DISPLAY THE PREDICTIONS\n",
    "    predictions.show(5)\n",
    "    print(f\"Execution time: {time.time() - start_time}\")\n",
    "    \n",
    "    # MODEL EVALUATION\n",
    "    \n",
    "    from pyspark.ml.evaluation import RegressionEvaluator\n",
    "    from pyspark.ml.evaluation import RegressionEvaluator\n",
    "    # Select (prediction, true label) and compute test error\n",
    "    evaluator = RegressionEvaluator(labelCol=\"label\",\n",
    "                                predictionCol=\"prediction\",\n",
    "                                metricName=\"rmse\")\n",
    "\n",
    "    rmse = evaluator.evaluate(predictions)\n",
    "    print(\"Root Mean Squared Error (RMSE) on test data = %g\" % rmse)\n",
    "    \n",
    "    y_true = predictions.select(\"label\").toPandas()\n",
    "    y_pred = predictions.select(\"prediction\").toPandas()\n",
    "\n",
    "    import sklearn.metrics\n",
    "    r2_score = sklearn.metrics.r2_score(y_true, y_pred)\n",
    "    mae = sklearn.metrics.mean_absolute_error(y_true, y_pred)\n",
    "    mse = sklearn.metrics.mean_squared_error(y_true, y_pred)\n",
    "    print(\"Regression Report:\")\n",
    "    print('r2_score: {0}'.format(r2_score))\n",
    "    print('MAE: {0}'.format(mae))\n",
    "    print('MSE: {0}'.format(mse))\n",
    "    print(\"Actual vs Predicted\")\n",
    "    ac_pr = pd.DataFrame(columns=['Actual','Predicted'])\n",
    "    ac_pr['Actual'] = y_true\n",
    "    ac_pr['Predicted'] = y_pred\n",
    "    return ac_pr\n",
    "    \n",
    "    \n",
    "    \n",
    "    \n"
   ]
  },
  {
   "cell_type": "code",
   "execution_count": null,
   "metadata": {},
   "outputs": [],
   "source": [
    "SparkDT(data_spark)"
   ]
  },
  {
   "cell_type": "code",
   "execution_count": null,
   "metadata": {},
   "outputs": [],
   "source": []
  },
  {
   "cell_type": "code",
   "execution_count": null,
   "metadata": {},
   "outputs": [],
   "source": []
  },
  {
   "cell_type": "code",
   "execution_count": null,
   "metadata": {},
   "outputs": [],
   "source": [
    "# converting the pandas df to Spark df\n",
    "\n",
    "#from pyspark.sql import SparkSession\n",
    "\n",
    "#spark = SparkSession.builder.master(\"local\").appName(\"DDA\").getOrCreate()\n"
   ]
  },
  {
   "cell_type": "code",
   "execution_count": null,
   "metadata": {},
   "outputs": [],
   "source": [
    "#spark_df = spark.createDataFrame(df_random_for)\n",
    "#spark_df.printSchema()\n",
    "#spark_df.show()\n"
   ]
  },
  {
   "cell_type": "code",
   "execution_count": null,
   "metadata": {},
   "outputs": [],
   "source": [
    "#spark_df.columns"
   ]
  },
  {
   "cell_type": "code",
   "execution_count": null,
   "metadata": {},
   "outputs": [],
   "source": [
    "#spark_df.describe().show()"
   ]
  },
  {
   "cell_type": "markdown",
   "metadata": {},
   "source": [
    "## Converting data to dence Vector (features and label)"
   ]
  },
  {
   "cell_type": "markdown",
   "metadata": {},
   "source": [
    "You will find out that all of the machine learning algorithms in Spark are based on the features and label. That is to say, you can play with all of the machine learning algorithms in Spark when you get ready the features and label.\n",
    "\n"
   ]
  },
  {
   "cell_type": "code",
   "execution_count": null,
   "metadata": {},
   "outputs": [],
   "source": [
    "\n"
   ]
  },
  {
   "cell_type": "code",
   "execution_count": null,
   "metadata": {},
   "outputs": [],
   "source": [
    "# Comvert the data to dense vector\n",
    "\n",
    "#def transformData(data):\n",
    " #   return data.rdd.map(lambda r: [Vectors.dense(r[:-1]),r[-1]]).toDF(['features','label'])\n",
    "\n",
    "\n",
    "\n",
    "#transformed = transformData(spark_df)\n",
    "#transformed.show(5)"
   ]
  },
  {
   "cell_type": "code",
   "execution_count": null,
   "metadata": {},
   "outputs": [],
   "source": [
    "# Dealing with categorical variables\n",
    "# Automatically identify categorical features, and index them.\n",
    "# We specify maxCategories so features with > 4\n",
    "# distinct values are treated as continuous.\n",
    "#featureIndexer = VectorIndexer(inputCol=\"features\", \n",
    " #                              outputCol=\"indexedFeatures\",\n",
    "  #                             maxCategories=4).fit(transformed)\n",
    "\n",
    "#data = featureIndexer.transform(transformed)"
   ]
  },
  {
   "cell_type": "code",
   "execution_count": null,
   "metadata": {},
   "outputs": [],
   "source": [
    "#data.show()"
   ]
  },
  {
   "cell_type": "code",
   "execution_count": null,
   "metadata": {},
   "outputs": [],
   "source": [
    "#(trainingData, testData) = data.randomSplit([07.,0.3])"
   ]
  },
  {
   "cell_type": "code",
   "execution_count": null,
   "metadata": {},
   "outputs": [],
   "source": [
    "#trainingData.show(5)\n",
    "#testData.show(5)"
   ]
  },
  {
   "cell_type": "markdown",
   "metadata": {},
   "source": [
    "### Fit the decision tree model"
   ]
  },
  {
   "cell_type": "code",
   "execution_count": null,
   "metadata": {},
   "outputs": [],
   "source": [
    "#dt = DecisionTreeRegressor(featuresCol = \"indexedFeatures\")"
   ]
  },
  {
   "cell_type": "markdown",
   "metadata": {},
   "source": [
    "### pipeline architectyre"
   ]
  },
  {
   "cell_type": "code",
   "execution_count": null,
   "metadata": {},
   "outputs": [],
   "source": [
    "#pipeline = Pipeline(stages = [featureIndexer, dt])\n",
    "\n",
    "#model = pipeline.fit(trainingData)"
   ]
  },
  {
   "cell_type": "code",
   "execution_count": null,
   "metadata": {},
   "outputs": [],
   "source": [
    "## making predictions\n",
    "#predictions = model.transform(testData)"
   ]
  },
  {
   "cell_type": "code",
   "execution_count": null,
   "metadata": {},
   "outputs": [],
   "source": [
    "# displaying the predctions\n",
    "#predictions.show(5)"
   ]
  },
  {
   "cell_type": "markdown",
   "metadata": {},
   "source": [
    "### Evaluations"
   ]
  },
  {
   "cell_type": "code",
   "execution_count": null,
   "metadata": {},
   "outputs": [],
   "source": [
    "\"\"\"from pyspark.ml.evaluation import RegressionEvaluator\n",
    "from pyspark.ml.evaluation import RegressionEvaluator\n",
    "# Select (prediction, true label) and compute test error\n",
    "evaluator = RegressionEvaluator(labelCol=\"label\",\n",
    "                                predictionCol=\"prediction\",\n",
    "                                metricName=\"rmse\")\n",
    "\n",
    "rmse = evaluator.evaluate(predictions)\n",
    "print(\"Root Mean Squared Error (RMSE) on test data = %g\" % rmse)\"\"\""
   ]
  },
  {
   "cell_type": "code",
   "execution_count": null,
   "metadata": {},
   "outputs": [],
   "source": [
    "\"\"\"y_true = predictions.select(\"label\").toPandas()\n",
    "y_pred = predictions.select(\"prediction\").toPandas()\n",
    "\n",
    "import sklearn.metrics\n",
    "r2_score = sklearn.metrics.r2_score(y_true, y_pred)\n",
    "mae = sklearn.metrics.mean_absolute_error(y_true, y_pred)\n",
    "mse = sklearn.metrics.mean_squared_error(y_true, y_pred)\n",
    "print(\"Regression Report:\")\n",
    "print('r2_score: {0}'.format(r2_score))\n",
    "print('MAE: {0}'.format(mae))\n",
    "print('MSE: {0}'.format(mse))\n",
    "print(\"Actual vs Predicted\")\n",
    "ac_pr = pd.DataFrame(columns=['Actual','Predicted'])\n",
    "ac_pr['Actual'] = y_true\n",
    "ac_pr['Predicted'] = y_pred\n",
    "ac_pr\n",
    "\"\"\""
   ]
  },
  {
   "cell_type": "code",
   "execution_count": null,
   "metadata": {},
   "outputs": [],
   "source": [
    "#model.stages[1].featureImportances"
   ]
  },
  {
   "cell_type": "code",
   "execution_count": null,
   "metadata": {},
   "outputs": [],
   "source": []
  }
 ],
 "metadata": {
  "kernelspec": {
   "display_name": "Python 3",
   "language": "python",
   "name": "python3"
  },
  "language_info": {
   "codemirror_mode": {
    "name": "ipython",
    "version": 3
   },
   "file_extension": ".py",
   "mimetype": "text/x-python",
   "name": "python",
   "nbconvert_exporter": "python",
   "pygments_lexer": "ipython3",
   "version": "3.8.8"
  }
 },
 "nbformat": 4,
 "nbformat_minor": 4
}
